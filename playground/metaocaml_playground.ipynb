{
 "cells": [
  {
   "cell_type": "markdown",
   "metadata": {},
   "source": [
    "# First Class Patterns"
   ]
  },
  {
   "cell_type": "code",
   "execution_count": 162,
   "metadata": {
    "vscode": {
     "languageId": "ocaml"
    }
   },
   "outputs": [],
   "source": [
    "#require \"core\"\n",
    "open Core"
   ]
  },
  {
   "cell_type": "code",
   "execution_count": 2,
   "metadata": {
    "vscode": {
     "languageId": "ocaml"
    }
   },
   "outputs": [
    {
     "data": {
      "text/plain": [
       "type (_, _, _) pat =\n",
       "    Any : ('a, 'r, 'r) pat\n",
       "  | Int : int -> (int, 'r, 'r) pat\n",
       "  | Var : ('a, 'a -> 'r, 'r) pat\n",
       "  | EmptyList : ('a list, 'r, 'r) pat\n",
       "  | Pair : ('a, 'k, 'j) pat * ('b, 'j, 'r) pat -> ('a * 'b, 'k, 'r) pat\n",
       "  | Cons : ('a, 'k, 'j) pat * ('a list, 'j, 'r) pat -> ('a list, 'k, 'r) pat\n"
      ]
     },
     "execution_count": 2,
     "metadata": {},
     "output_type": "execute_result"
    }
   ],
   "source": [
    "type (_, _, _) pat = \n",
    "    Any : ('a, 'r, 'r) pat\n",
    "  | Int : int -> (int, 'r, 'r) pat\n",
    "  | Var : ('a, 'a -> 'r, 'r) pat (* Would be 'a code here instead *)\n",
    "  | EmptyList : ('a list, 'r, 'r) pat\n",
    "  | Pair : ('a, 'k, 'j) pat * ('b, 'j, 'r) pat -> ('a * 'b, 'k, 'r) pat\n",
    "  | Cons : ('a, 'k, 'j) pat * ('a list, 'j, 'r) pat -> ('a list, 'k, 'r) pat"
   ]
  },
  {
   "cell_type": "code",
   "execution_count": 3,
   "metadata": {
    "vscode": {
     "languageId": "ocaml"
    }
   },
   "outputs": [
    {
     "data": {
      "text/plain": [
       "val match_ : 'a -> ('a, 'f, 'r) pat -> 'f -> 'r = <fun>\n"
      ]
     },
     "execution_count": 3,
     "metadata": {},
     "output_type": "execute_result"
    }
   ],
   "source": [
    "let rec match_ : type a f r. a -> (a, f, r) pat -> f -> r = (* Explicit type notation *)\n",
    "  fun scrutinee pattern cont -> \n",
    "    match pattern, scrutinee with\n",
    "    | Any, _ -> cont\n",
    "    | Int i, _ -> if i = scrutinee then cont else failwith \"match failed\"\n",
    "    | Var, _ -> cont scrutinee\n",
    "    | EmptyList, _ -> cont\n",
    "    | Pair (p1, p2), (a1, a2) -> \n",
    "      let m1 = match_ a1 p1 cont in\n",
    "      let m2 = match_ a2 p2 m1 in\n",
    "      m2\n",
    "    | Cons (p1, p2), a1::a2 -> \n",
    "        let m1 = match_ a1 p1 cont in\n",
    "        let m2 = match_ a2 p2 m1 in\n",
    "        m2\n",
    "    | _, _ -> failwith \"match failed\""
   ]
  },
  {
   "cell_type": "markdown",
   "metadata": {},
   "source": [
    "# Tagless final embedding"
   ]
  },
  {
   "cell_type": "code",
   "execution_count": 4,
   "metadata": {
    "vscode": {
     "languageId": "ocaml"
    }
   },
   "outputs": [
    {
     "data": {
      "text/plain": [
       "module type Symantics =\n",
       "  sig\n",
       "    type ('c, 'dv) repr\n",
       "    val int : int -> ('c, int) repr\n",
       "    val bool : bool -> ('c, bool) repr\n",
       "    val lam : (('c, 'da) repr -> ('c, 'db) repr) -> ('c, 'da -> 'db) repr\n",
       "    val app : ('c, 'da -> 'db) repr -> ('c, 'da) repr -> ('c, 'db) repr\n",
       "    val fix :\n",
       "      (('c, 'da -> 'db) repr -> ('c, 'da -> 'db) repr) ->\n",
       "      ('c, 'da -> 'db) repr\n",
       "    val add : ('c, int) repr -> ('c, int) repr -> ('c, int) repr\n",
       "    val mul : ('c, int) repr -> ('c, int) repr -> ('c, int) repr\n",
       "    val leq : ('c, int) repr -> ('c, int) repr -> ('c, bool) repr\n",
       "    val if_ :\n",
       "      ('c, bool) repr ->\n",
       "      (unit -> ('c, 'da) repr) -> (unit -> ('c, 'da) repr) -> ('c, 'da) repr\n",
       "  end\n"
      ]
     },
     "execution_count": 4,
     "metadata": {},
     "output_type": "execute_result"
    }
   ],
   "source": [
    "module type Symantics = sig\n",
    "  type ('c, 'dv) repr\n",
    "  val int : int  -> ('c, int) repr\n",
    "  val bool: bool -> ('c, bool) repr\n",
    "  val lam : (('c, 'da) repr -> ('c, 'db) repr) -> ('c, 'da -> 'db) repr\n",
    "  val app : ('c, 'da -> 'db) repr -> ('c, 'da) repr -> ('c, 'db) repr\n",
    "  val fix : ('x -> 'x) -> (('c, 'da -> 'db) repr as 'x)\n",
    "  val add : ('c, int) repr -> ('c, int) repr -> ('c, int) repr\n",
    "  val mul : ('c, int) repr -> ('c, int) repr -> ('c, int) repr\n",
    "  val leq : ('c, int) repr -> ('c, int) repr -> ('c, bool) repr\n",
    "  val if_ : ('c, bool) repr -> (unit -> 'x) -> (unit -> 'x) -> (('c, 'da) repr as 'x)\n",
    "end"
   ]
  },
  {
   "cell_type": "code",
   "execution_count": 5,
   "metadata": {
    "vscode": {
     "languageId": "ocaml"
    }
   },
   "outputs": [
    {
     "data": {
      "text/plain": [
       "module Interpreter : Symantics\n"
      ]
     },
     "execution_count": 5,
     "metadata": {},
     "output_type": "execute_result"
    }
   ],
   "source": [
    "(* https://okmij.org/ftp/tagless-final/JFP.pdf *)\n",
    "module Interpreter : Symantics = struct\n",
    "  type ('c, 'dv) repr = 'dv\n",
    "  let int x = x\n",
    "  let bool b = b\n",
    "  let lam f = f\n",
    "  let app e1 e2 = e1 e2 \n",
    "  let fix f = let rec self n = f self n in self\n",
    "  let add e1 e2 = e1 + e2\n",
    "  let mul e1 e2 = e1 * e2\n",
    "  let leq e1 e2 = e1 <= e2\n",
    "  let if_ eb et ee = if eb then et () else ee ()\n",
    "end"
   ]
  },
  {
   "cell_type": "code",
   "execution_count": 6,
   "metadata": {
    "vscode": {
     "languageId": "ocaml"
    }
   },
   "outputs": [
    {
     "data": {
      "text/plain": [
       "- : ('_weak1, bool) Interpreter.repr = <abstr>\n"
      ]
     },
     "execution_count": 6,
     "metadata": {},
     "output_type": "execute_result"
    }
   ],
   "source": [
    "let module I = Interpreter in I.app (I.lam (fun x -> x)) (I.bool true)"
   ]
  },
  {
   "cell_type": "code",
   "execution_count": 7,
   "metadata": {
    "vscode": {
     "languageId": "ocaml"
    }
   },
   "outputs": [
    {
     "data": {
      "text/plain": [
       "module type Pat =\n",
       "  sig\n",
       "    type ('c, 'a, 'f, 'r) pat\n",
       "    val int_ : int -> ('c, int, 'r, 'r) pat\n",
       "    val any_ : ('c, 'a, 'r, 'r) pat\n",
       "    val var : ('c, 'a, 'a -> 'r, 'r) pat\n",
       "    val emptylist : ('c, 'a list, 'r, 'r) pat\n",
       "    val pair :\n",
       "      ('c, 'a, 'k, 'j) pat ->\n",
       "      ('c, 'b, 'j, 'r) pat -> ('c, 'a * 'b, 'k, 'r) pat\n",
       "    val cons :\n",
       "      ('c, 'a, 'k, 'j) pat ->\n",
       "      ('c, 'a list, 'j, 'r) pat -> ('c, 'a list, 'k, 'r) pat\n",
       "    val or_ :\n",
       "      ('c, 'a, 'k, 'r) pat -> ('c, 'a, 'k, 'r) pat -> ('c, 'a, 'k, 'r) pat\n",
       "  end\n"
      ]
     },
     "execution_count": 7,
     "metadata": {},
     "output_type": "execute_result"
    }
   ],
   "source": [
    "module type Pat = sig\n",
    "  type ('c, 'a, 'f, 'r) pat\n",
    "  val int_ : int -> ('c, int, 'r, 'r) pat\n",
    "  val any_ : ('c, 'a, 'r, 'r) pat\n",
    "  val var : ('c, 'a, 'a -> 'r, 'r) pat\n",
    "  val emptylist : ('c, 'a list, 'r, 'r) pat\n",
    "  val pair : ('c, 'a, 'k, 'j) pat -> ('c, 'b, 'j, 'r) pat -> ('c, 'a * 'b, 'k, 'r) pat\n",
    "  val cons : ('c, 'a, 'k, 'j) pat -> ('c, 'a list, 'j, 'r) pat -> ('c, 'a list, 'k, 'r) pat\n",
    "  val or_ : ('c, 'a, 'k, 'r) pat -> ('c, 'a, 'k, 'r) pat -> ('c, 'a, 'k, 'r) pat\n",
    "end"
   ]
  },
  {
   "cell_type": "code",
   "execution_count": 33,
   "metadata": {
    "vscode": {
     "languageId": "ocaml"
    }
   },
   "outputs": [
    {
     "data": {
      "text/plain": [
       "module PattnMatch : Pat\n"
      ]
     },
     "execution_count": 33,
     "metadata": {},
     "output_type": "execute_result"
    }
   ],
   "source": [
    "module PattnMatch : Pat = struct\n",
    "  open Core.Option.Monad_infix\n",
    "  type ('c, 'a, 'f, 'r) pat = 'a -> 'f -> 'r option\n",
    "  let int_ i scrutinee cont = if i = scrutinee then Some (cont) else None\n",
    "  let any_ scrutinee cont = Some cont\n",
    "  let var scrutinee cont = Some (cont scrutinee)\n",
    "  let emptylist scrutinee cont = Some cont\n",
    "  let pair constr_left constr_right (scrutinee_left, scrutinee_right) cont = \n",
    "    constr_left scrutinee_left cont >>= fun m1 -> \n",
    "    constr_right scrutinee_right m1 >>= fun m2 -> \n",
    "    Some m2\n",
    "  let cons constr_left constr_right (scrutinee) cont = \n",
    "    match scrutinee with \n",
    "    | scrutinee_left :: scrutinee_right ->\n",
    "      constr_left scrutinee_left cont >>= fun m1 -> \n",
    "      constr_right scrutinee_right m1 >>= fun m2 ->\n",
    "      Some m2\n",
    "    | _ -> None\n",
    "  let or_ constr_left constr_right scrutinee cont = \n",
    "      match constr_left scrutinee cont with\n",
    "      | Some res -> Some res\n",
    "      | None -> constr_right scrutinee cont\n",
    "  let rename constr scrutinee cont = constr scrutinee (fun x y -> cont y x)\n",
    "  (* TODO: implement this sort of renaming *)\n",
    "end"
   ]
  },
  {
   "cell_type": "code",
   "execution_count": 9,
   "metadata": {
    "vscode": {
     "languageId": "ocaml"
    }
   },
   "outputs": [
    {
     "data": {
      "text/plain": [
       "- : int Base.Option.t = Base.Option.Some 3\n"
      ]
     },
     "execution_count": 9,
     "metadata": {},
     "output_type": "execute_result"
    }
   ],
   "source": [
    "PattnMatch.pair PattnMatch.var PattnMatch.var (1, 2) (fun x -> fun y -> x + y)"
   ]
  },
  {
   "cell_type": "code",
   "execution_count": 10,
   "metadata": {
    "vscode": {
     "languageId": "ocaml"
    }
   },
   "outputs": [
    {
     "data": {
      "text/plain": [
       "- : Core.Int.t Base.Option.t = Base.Option.Some 2\n"
      ]
     },
     "execution_count": 10,
     "metadata": {},
     "output_type": "execute_result"
    }
   ],
   "source": [
    "PattnMatch.or_ (PattnMatch.pair PattnMatch.var (PattnMatch.int_ (3))) (PattnMatch.pair (PattnMatch.int_ (3)) PattnMatch.var) (3, 2) (fun x -> x)"
   ]
  },
  {
   "cell_type": "code",
   "execution_count": 11,
   "metadata": {
    "vscode": {
     "languageId": "ocaml"
    }
   },
   "outputs": [
    {
     "data": {
      "text/plain": [
       "- : '_weak2 * '_weak3 ->\n",
       "    ('_weak2 -> '_weak3 -> '_weak4) -> '_weak4 Base.Option.t\n",
       "= <fun>\n"
      ]
     },
     "execution_count": 11,
     "metadata": {},
     "output_type": "execute_result"
    }
   ],
   "source": [
    "PattnMatch.pair PattnMatch.var PattnMatch.var"
   ]
  },
  {
   "cell_type": "code",
   "execution_count": 12,
   "metadata": {
    "vscode": {
     "languageId": "ocaml"
    }
   },
   "outputs": [
    {
     "data": {
      "text/plain": [
       "- : Core.Int.t * '_weak5 -> ('_weak5 -> '_weak6) -> '_weak6 Base.Option.t =\n",
       "<fun>\n"
      ]
     },
     "execution_count": 12,
     "metadata": {},
     "output_type": "execute_result"
    }
   ],
   "source": [
    "PattnMatch.pair (PattnMatch.int_ (3)) PattnMatch.var"
   ]
  },
  {
   "cell_type": "code",
   "execution_count": 13,
   "metadata": {
    "vscode": {
     "languageId": "ocaml"
    }
   },
   "outputs": [
    {
     "data": {
      "text/plain": [
       "- : int Base.Option.t = Base.Option.Some 2\n"
      ]
     },
     "execution_count": 13,
     "metadata": {},
     "output_type": "execute_result"
    }
   ],
   "source": [
    "PattnMatch.pair (PattnMatch.int_ (3)) PattnMatch.var (3, 2) (fun x -> x)"
   ]
  },
  {
   "cell_type": "markdown",
   "metadata": {},
   "source": [
    "# Tagless Final, but with DB indices\n",
    "\n",
    "Need to try to see if I can generate things with De Bruijn indices instead, and what it could look like. Current issue is that we're encoding the context $\\Gamma$ as this curried function `'f`, and this is similar in spirit to doing HOAS. The issue, of course, is that I'd like a more explicit definition of variables so that I can manipulate them and rename them etc."
   ]
  },
  {
   "cell_type": "code",
   "execution_count": 14,
   "metadata": {
    "vscode": {
     "languageId": "ocaml"
    }
   },
   "outputs": [
    {
     "ename": "error",
     "evalue": "compile_error",
     "output_type": "error",
     "traceback": [
      "File \"[14]\", line 1, characters 7-8:\n1 | (x, y) \\intersect (y, x) -> \n           ^\nError: Illegal character (\\\\)\n"
     ]
    }
   ],
   "source": [
    "(x, y) \\intersect (y, x) -> \n",
    "  (x, y)\n",
    "\n",
    "  (x, y) -| x: int -> y: int -> 'r\n",
    "  (y, x) -| x: int -> y: int -> 'r\n",
    "\n",
    "  (2, 2)"
   ]
  },
  {
   "cell_type": "code",
   "execution_count": null,
   "metadata": {
    "vscode": {
     "languageId": "ocaml"
    }
   },
   "outputs": [],
   "source": []
  },
  {
   "cell_type": "code",
   "execution_count": 15,
   "metadata": {
    "vscode": {
     "languageId": "ocaml"
    }
   },
   "outputs": [
    {
     "data": {
      "text/plain": [
       "type _ polylist = Nil : 'a polylist | Cons : 'a polylist * 'b -> 'b polylist\n"
      ]
     },
     "execution_count": 15,
     "metadata": {},
     "output_type": "execute_result"
    }
   ],
   "source": [
    "type _ polylist =\n",
    "  | Nil: 'a polylist | Cons : 'a polylist * 'b -> 'b polylist"
   ]
  },
  {
   "cell_type": "markdown",
   "metadata": {},
   "source": [
    "# Heterogenous List"
   ]
  },
  {
   "cell_type": "code",
   "execution_count": 16,
   "metadata": {
    "vscode": {
     "languageId": "ocaml"
    }
   },
   "outputs": [
    {
     "data": {
      "text/plain": [
       "module Ctx_ :\n",
       "  sig\n",
       "    type _ var\n",
       "    and _ code\n",
       "    type _ context =\n",
       "        (::) : 'hd var * 'tl context -> ('hd * 'tl) context\n",
       "      | [] : unit context\n",
       "    type ('g, 'd) renaming = 'g context -> 'd context\n",
       "    val id : ('g, 'g) renaming\n",
       "    val compose : ('g, 'd) renaming -> ('d, 'h) renaming -> ('g, 'h) renaming\n",
       "    val weaken : 'a var -> ('g, 'a * 'g) renaming\n",
       "    val swap : ('a * ('b * 'g), 'b * ('a * 'g)) renaming\n",
       "    type ('g, 'a) rhs = 'g context -> 'a code\n",
       "    val rmap : ('g, 'd) renaming -> ('d, 'a) rhs -> ('g, 'a) rhs\n",
       "  end\n"
      ]
     },
     "execution_count": 16,
     "metadata": {},
     "output_type": "execute_result"
    }
   ],
   "source": [
    "module Ctx_ = struct\n",
    "  type _ var\n",
    "  and _ code\n",
    "  \n",
    "  type _ context =\n",
    "    | ( :: ) : 'hd var * 'tl context -> ('hd * 'tl) context\n",
    "    | [] : unit context\n",
    "  \n",
    "  type ('g, 'd) renaming = 'g context -> 'd context\n",
    "  let id : 'g. ('g, 'g) renaming = fun g -> g\n",
    "  let compose : 'g 'd 'h. ('g, 'd) renaming -> ('d, 'h) renaming -> ('g, 'h) renaming =\n",
    "    fun r1 r2 env -> r2 (r1 env)\n",
    "  let weaken : 'a 'g. 'a var -> ('g, 'a * 'g) renaming = fun x g -> x :: g\n",
    "  let swap : 'a 'b 'g. ('a * ('b * 'g), 'b * ('a * 'g)) renaming = fun (a :: b :: g) -> b :: a :: g\n",
    "  \n",
    "  type ('g, 'a) rhs = 'g context -> 'a code\n",
    "  let rmap : 'a 'g 'd. ('g, 'd) renaming -> ('d, 'a) rhs -> ('g, 'a) rhs =\n",
    "    fun r rhs env -> rhs (r env)  \n",
    "end"
   ]
  },
  {
   "cell_type": "markdown",
   "metadata": {},
   "source": [
    "Unfortunately doesn't support appending lists "
   ]
  },
  {
   "cell_type": "markdown",
   "metadata": {},
   "source": [
    "## First Try: with context with a tail ptr"
   ]
  },
  {
   "cell_type": "code",
   "execution_count": 17,
   "metadata": {
    "vscode": {
     "languageId": "ocaml"
    }
   },
   "outputs": [
    {
     "name": "stderr",
     "output_type": "stream",
     "text": [
      "File \"[17]\", line 15, characters 74-106:\n",
      "15 |   let swap : 'a 'b 'g 'c. ('a * ('b * 'g), 'b * ('a * 'g), 'c) renaming = fun (a :: b :: g) -> b :: a :: g\n",
      "                                                                               ^^^^^^^^^^^^^^^^^^^^^^^^^^^^^^^^\n",
      "Warning 8 [partial-match]: this pattern-matching is not exhaustive.\n",
      "Here is an example of a case that is not matched:\n",
      "_::[]\n"
     ]
    },
    {
     "data": {
      "text/plain": [
       "module Ctx :\n",
       "  sig\n",
       "    type 'a var = 'a code\n",
       "    and 'a code = 'a\n",
       "    type (_, _) context =\n",
       "        (::) : 'hd var * ('tl, 'a) context -> ('hd * 'tl, 'a) context\n",
       "      | [] : ('a, 'a) context\n",
       "    type ('g, 'd, 'a) renaming = ('g, 'a) context -> ('d, 'a) context\n",
       "    val id : ('g, 'g, 'a) renaming\n",
       "    val compose :\n",
       "      ('g, 'd, 'a) renaming -> ('d, 'h, 'a) renaming -> ('g, 'h, 'a) renaming\n",
       "    val weaken : 'a var -> ('g, 'a * 'g, 'b) renaming\n",
       "    val swap : ('a * ('b * 'g), 'b * ('a * 'g), 'c) renaming\n",
       "    val concat : ('a, 'b) context -> ('b, 'c) context -> ('a, 'c) context\n",
       "    type ('g, 'a) rhs = ('g, unit) context -> 'a code\n",
       "    val rmap : ('g, 'd, unit) renaming -> ('d, 'a) rhs -> ('g, 'a) rhs\n",
       "  end\n"
      ]
     },
     "execution_count": 17,
     "metadata": {},
     "output_type": "execute_result"
    }
   ],
   "source": [
    "module Ctx = struct\n",
    "  type 'a var = 'a code\n",
    "  and 'a code = 'a\n",
    "\n",
    "  type (_, _) context =\n",
    "    | ( :: ) : 'hd var * ('tl, 'a) context -> ('hd * 'tl, 'a) context\n",
    "    | [] : ('a, 'a) context\n",
    "\n",
    "  type ('g, 'd, 'a) renaming = ('g, 'a) context -> ('d, 'a) context\n",
    "  let id : 'g 'a. ('g, 'g, 'a) renaming = fun g -> g\n",
    "  let compose : 'g 'd 'h 'a. ('g, 'd, 'a) renaming -> ('d, 'h, 'a) renaming -> ('g, 'h, 'a) renaming =\n",
    "    fun r1 r2 env -> r2 (r1 env)\n",
    "  let weaken : 'a 'g 'b. 'a var -> ('g, 'a * 'g, 'b) renaming = fun x g -> x :: g\n",
    "  (* source of warning here. *)\n",
    "  let swap : 'a 'b 'g 'c. ('a * ('b * 'g), 'b * ('a * 'g), 'c) renaming = fun (a :: b :: g) -> b :: a :: g\n",
    "\n",
    "  let rec concat : type a b c. (a, b) context -> (b, c) context -> (a, c) context = fun c1 c2 ->\n",
    "    match c1 with\n",
    "    | x :: xs -> x :: concat xs c2\n",
    "    | [] -> c2\n",
    "\n",
    "  type ('g, 'a) rhs = ('g, unit) context -> 'a code\n",
    "  let rmap : 'a 'g 'd 'b. ('g, 'd, unit) renaming -> ('d, 'a) rhs -> ('g, 'a) rhs =\n",
    "    fun r rhs env -> rhs (r env)\n",
    "\n",
    "end\n"
   ]
  },
  {
   "cell_type": "code",
   "execution_count": 18,
   "metadata": {
    "vscode": {
     "languageId": "ocaml"
    }
   },
   "outputs": [
    {
     "ename": "error",
     "evalue": "runtime_error",
     "output_type": "error",
     "traceback": [
      "\u001b[31mException: Match_failure (\"[17]\", 15, 74).\nRaised at Ctx.swap in file \"[17]\", line 15, characters 74-106\nCalled from Stdlib__fun.protect in file \"fun.ml\", line 33, characters 8-15\nRe-raised at Stdlib__fun.protect in file \"fun.ml\", line 38, characters 6-52\nCalled from Toploop.load_lambda in file \"toplevel/toploop.ml\", line 212, characters 4-150\n\u001b[0m"
     ]
    }
   ],
   "source": [
    "Ctx.swap Ctx.[]"
   ]
  },
  {
   "cell_type": "code",
   "execution_count": 19,
   "metadata": {
    "vscode": {
     "languageId": "ocaml"
    }
   },
   "outputs": [
    {
     "data": {
      "text/plain": [
       "- : (int * (string * (('_weak7 -> '_weak7) * (string * '_weak8))), '_weak8)\n",
       "    Ctx.context\n",
       "= Ctx.(::) (1, Ctx.(::) (\"s\", Ctx.(::) (<fun>, Ctx.(::) (\"e\", Ctx.[]))))\n"
      ]
     },
     "execution_count": 19,
     "metadata": {},
     "output_type": "execute_result"
    }
   ],
   "source": [
    "Ctx.concat Ctx.(1 :: \"s\" :: []) Ctx.((fun x -> x) :: \"e\" :: [])"
   ]
  },
  {
   "cell_type": "markdown",
   "metadata": {},
   "source": [
    "This all works except type-checking doesn't for swap. Now I'll try to add type level numbers. https://www.kb.ecei.tohoku.ac.jp/ml2008/slides/lindley.pdf"
   ]
  },
  {
   "cell_type": "code",
   "execution_count": 20,
   "metadata": {
    "vscode": {
     "languageId": "ocaml"
    }
   },
   "outputs": [
    {
     "ename": "error",
     "evalue": "compile_error",
     "output_type": "error",
     "traceback": [
      "File \"[20]\", line 13, characters 4-7:\n13 |     let id : 'g. ('g, 'g) renaming = fun g -> g\n         ^^^\nError: Syntax error: 'end' expected\nFile \"[20]\", line 2, characters 15-21:\n2 |   module Ctx = struct\n                   ^^^^^^\n  This 'struct' might be unmatched\n"
     ]
    }
   ],
   "source": [
    "module Pat = struct\n",
    "  module Ctx = struct\n",
    "    type 'a var = 'a code\n",
    "    and 'a code = 'a\n",
    "  \n",
    "    type _ context =\n",
    "      | ( :: ) : 'hd var * 'tl context -> ('hd * 'tl) context\n",
    "      | [] : unit context\n",
    "  \n",
    "    type ('g, 'd) renaming = 'g context -> 'd context\n",
    "\n",
    "    let rec concat : 'a context -> 'b context -> \n",
    "    let id : 'g. ('g, 'g) renaming = fun g -> g\n",
    "    let compose : 'g 'd 'h. ('g, 'd) renaming -> ('d, 'h) renaming -> ('g, 'h) renaming =\n",
    "      fun r1 r2 env -> r2 (r1 env)\n",
    "    let weaken : 'a 'g. 'a var -> ('g, 'a * 'g) renaming = fun x g -> x :: g\n",
    "    let swap : 'a 'b 'g. ('a * ('b * 'g), 'b * ('a * 'g)) renaming = fun (a :: b :: g) -> b :: a :: g\n",
    "  \n",
    "    type ('g, 'a) rhs = 'g context -> 'a code\n",
    "    let rmap : 'a 'g 'd. ('g, 'd) renaming -> ('d, 'a) rhs -> ('g, 'a) rhs =\n",
    "      fun r rhs env -> rhs (r env)\n",
    "  end\n",
    "\n",
    "  (* second argument changed to just the type of the context 'g *)\n",
    "  type (_, _, _) pat = \n",
    "    Any : ('a, unit, 'r) pat\n",
    "  | Int : int -> (int, unit, 'r) pat\n",
    "  | Var : ('a, ('a * unit), 'r) pat (* Would be 'a code here instead *)\n",
    "  | EmptyList : ('a list, unit, 'r) pat\n",
    "  | Pair : ('a, 'k, 'j) pat * ('b, 'j, 'r) pat -> ('a * 'b, 'k, 'r) pat (* Breaks: Need way of concatenating two contexts. *)\n",
    "  | Cons : ('a, 'k, 'j) pat * ('a list, 'j, 'r) pat -> ('a list, 'k, 'r) pat\n",
    "  | Or : ('a, 'k, 'r) pat * ('a, 'k, 'r) pat -> ('a, 'k, 'r) pat\n",
    "end"
   ]
  },
  {
   "cell_type": "code",
   "execution_count": null,
   "metadata": {
    "vscode": {
     "languageId": "ocaml"
    }
   },
   "outputs": [],
   "source": []
  },
  {
   "cell_type": "markdown",
   "metadata": {},
   "source": [
    "## Adding context length"
   ]
  },
  {
   "cell_type": "markdown",
   "metadata": {},
   "source": [
    "### Lindley's paper"
   ]
  },
  {
   "cell_type": "markdown",
   "metadata": {},
   "source": [
    "https://www.kb.ecei.tohoku.ac.jp/ml2008/slides/lindley.pdf"
   ]
  },
  {
   "cell_type": "code",
   "execution_count": 21,
   "metadata": {
    "vscode": {
     "languageId": "ocaml"
    }
   },
   "outputs": [
    {
     "data": {
      "text/plain": [
       "type z\n"
      ]
     },
     "execution_count": 21,
     "metadata": {},
     "output_type": "execute_result"
    },
    {
     "data": {
      "text/plain": [
       "type +'n s\n"
      ]
     },
     "execution_count": 21,
     "metadata": {},
     "output_type": "execute_result"
    },
    {
     "data": {
      "text/plain": [
       "module Nat :\n",
       "  sig\n",
       "    type +'i t\n",
       "    val zero : ('m * 'm) t\n",
       "    val succ : ('m * 'n) t -> ('m * 'n s) t\n",
       "    val add : ('m * 'n) t * ('l * 'm) t -> ('l * 'n) t\n",
       "    val to_int : 'i t -> int\n",
       "  end\n"
      ]
     },
     "execution_count": 21,
     "metadata": {},
     "output_type": "execute_result"
    }
   ],
   "source": [
    "type z\n",
    "type +'n s\n",
    "\n",
    "module Nat : sig\n",
    "  type +'i t\n",
    "  val zero : ('m * 'm) t\n",
    "  val succ : ('m * 'n) t -> ('m * 'n s) t\n",
    "  val add : ('m * 'n) t * ('l * 'm) t -> ('l * 'n) t \n",
    "  val to_int : 'i t -> int\n",
    "end = struct\n",
    "  type 'i t = int\n",
    "  let zero = 0\n",
    "  let succ n = n + 1\n",
    "  let add (n,m) = n + m \n",
    "  let to_int n = n\n",
    "end"
   ]
  },
  {
   "cell_type": "code",
   "execution_count": 22,
   "metadata": {
    "vscode": {
     "languageId": "ocaml"
    }
   },
   "outputs": [
    {
     "data": {
      "text/plain": [
       "- : ('a * 'a s) Nat.t = <abstr>\n"
      ]
     },
     "execution_count": 22,
     "metadata": {},
     "output_type": "execute_result"
    }
   ],
   "source": [
    "Nat.(succ zero)"
   ]
  },
  {
   "cell_type": "code",
   "execution_count": 23,
   "metadata": {
    "vscode": {
     "languageId": "ocaml"
    }
   },
   "outputs": [
    {
     "data": {
      "text/plain": [
       "- : ('a * 'a s s s s) Nat.t = <abstr>\n"
      ]
     },
     "execution_count": 23,
     "metadata": {},
     "output_type": "execute_result"
    }
   ],
   "source": [
    "Nat.(add (succ (succ zero), succ (succ zero)))"
   ]
  },
  {
   "cell_type": "code",
   "execution_count": 24,
   "metadata": {
    "vscode": {
     "languageId": "ocaml"
    }
   },
   "outputs": [
    {
     "data": {
      "text/plain": [
       "val f : 'a * 'a s s s s -> 'a = <fun>\n"
      ]
     },
     "execution_count": 24,
     "metadata": {},
     "output_type": "execute_result"
    }
   ],
   "source": [
    "let f : 'a * 'a s s s s -> 'a = fun (a, b) -> a"
   ]
  },
  {
   "cell_type": "markdown",
   "metadata": {},
   "source": [
    "\"syntactic non-values cannot be polymorphic\". -- Ask Jeremy what this means.\n",
    "\n",
    "The covariance annotations enable generalisation."
   ]
  },
  {
   "cell_type": "code",
   "execution_count": 25,
   "metadata": {
    "vscode": {
     "languageId": "ocaml"
    }
   },
   "outputs": [
    {
     "name": "stderr",
     "output_type": "stream",
     "text": [
      "File \"[25]\", line 15, characters 11-32:\n",
      "15 |   let swap (x::y::xs) = y::x::xs\n",
      "                ^^^^^^^^^^^^^^^^^^^^^\n",
      "Warning 8 [partial-match]: this pattern-matching is not exhaustive.\n",
      "Here is an example of a case that is not matched:\n",
      "_::[]\n"
     ]
    },
    {
     "data": {
      "text/plain": [
       "module NList :\n",
       "  sig\n",
       "    type (+'length, +'elem_type) t\n",
       "    val nil : ('m * 'm, 'a) t\n",
       "    val cons : 'a * ('m * 'n, 'a) t -> ('m * 'n s, 'a) t\n",
       "    val append : ('m * 'n, 'a) t * ('l * 'm, 'a) t -> ('l * 'n, 'a) t\n",
       "    val to_list : ('i, 'a) t -> 'a list\n",
       "    val swap : ('n s s * 'm, 'a) t -> ('n s s * 'm, 'a) t\n",
       "  end\n"
      ]
     },
     "execution_count": 25,
     "metadata": {},
     "output_type": "execute_result"
    }
   ],
   "source": [
    "type z\n",
    "type +'n s\n",
    "\n",
    "module NList : sig\n",
    "  type (+'length, +'elem_type) t\n",
    "  val nil : ('m*'m, 'a) t\n",
    "  val cons : 'a * ('m*'n, 'a) t -> ('m*'n s, 'a) t\n",
    "  val append : ('m*'n, 'a) t * ('l*'m, 'a) t -> ('l*'n, 'a) t\n",
    "  val to_list : ('i, 'a) t -> 'a list \n",
    "  val swap : ('n s s * 'm, 'a) t -> ('n s s * 'm, 'a) t\n",
    "end = struct\n",
    "  open List\n",
    "  type ('i, 'a) t = 'a list\n",
    "  let nil = []\n",
    "  let cons (x, xs) = (x :: xs)\n",
    "  let append (xs, ys) = xs @ ys\n",
    "  let to_list xs = xs\n",
    "  let swap (x::y::xs) = y::x::xs\n",
    "end"
   ]
  },
  {
   "cell_type": "markdown",
   "metadata": {},
   "source": [
    "### Initial thing"
   ]
  },
  {
   "cell_type": "code",
   "execution_count": null,
   "metadata": {
    "vscode": {
     "languageId": "ocaml"
    }
   },
   "outputs": [],
   "source": []
  },
  {
   "cell_type": "code",
   "execution_count": 26,
   "metadata": {
    "vscode": {
     "languageId": "ocaml"
    }
   },
   "outputs": [
    {
     "data": {
      "text/plain": [
       "module Ctx :\n",
       "  sig\n",
       "    type 'a var = 'a code\n",
       "    and 'a code = 'a\n",
       "    type z = unit\n",
       "    type 'n s = 'n * unit\n",
       "    type (_, _, _) context =\n",
       "        (::) : 'hd var *\n",
       "          ('n, 'tl, 'a) context -> ('n s, 'hd * 'tl, 'a) context\n",
       "      | [] : (z, 'a, 'a) context\n",
       "    type ('n, 'm, 'g, 'd, 'a) renaming =\n",
       "        ('n, 'g, 'a) context -> ('m, 'd, 'a) context\n",
       "    val id : ('n, 'n, 'g, 'g, 'a) renaming\n",
       "    val compose :\n",
       "      ('n, 'm, 'g, 'd, 'a) renaming ->\n",
       "      ('m, 'k, 'd, 'h, 'a) renaming -> ('n, 'k, 'g, 'h, 'a) renaming\n",
       "    val weaken : 'a var -> ('n, 'n s, 'g, 'a * 'g, 'b) renaming\n",
       "    val swap : ('n s s, 'n s s, 'a * ('b * 'g), 'b * ('a * 'g), 'c) renaming\n",
       "    type ('n, 'g, 'a) rhs = ('n, 'g, unit) context -> 'a code\n",
       "    val rmap :\n",
       "      ('m, 'n, 'g, 'd, unit) renaming -> ('n, 'd, 'a) rhs -> ('m, 'g, 'a) rhs\n",
       "  end\n"
      ]
     },
     "execution_count": 26,
     "metadata": {},
     "output_type": "execute_result"
    }
   ],
   "source": [
    "module Ctx = struct\n",
    "  type 'a var = 'a code\n",
    "  and 'a code = 'a\n",
    "\n",
    "  type z = unit\n",
    "  type 'n s = 'n * unit\n",
    "\n",
    "  type (_, _, _) context =\n",
    "    | ( :: ) : 'hd var * ('n, 'tl, 'a) context -> ('n s, 'hd * 'tl, 'a) context\n",
    "    | [] : (z, 'a, 'a) context\n",
    "\n",
    "  (* n -> m renaming *)\n",
    "  type ('n, 'm, 'g, 'd, 'a) renaming = ('n, 'g, 'a) context -> ('m, 'd, 'a) context\n",
    "  let id : 'n 'g 'a. ('n, 'n, 'g, 'g, 'a) renaming = fun g -> g\n",
    "  let compose : 'n 'm 'k 'g 'd 'h 'a. ('n, 'm, 'g, 'd, 'a) renaming -> ('m, 'k, 'd, 'h, 'a) renaming -> ('n, 'k, 'g, 'h, 'a) renaming =\n",
    "    fun r1 r2 env -> r2 (r1 env)\n",
    "  let weaken : 'n 'a 'g 'b. 'a var -> ('n, 'n s, 'g, 'a * 'g, 'b) renaming = fun x g -> x :: g\n",
    "  (* source of warning here. *)\n",
    "  let swap : 'n 'a 'b 'g 'c. ('n s s, 'n s s, 'a * ('b * 'g), 'b * ('a * 'g), 'c) renaming = fun (a :: b :: g) -> b :: a :: g\n",
    "\n",
    "  (* let rec concat : type n m a b c. (n, a, b) context -> (b, c) context -> (a, c) context = fun c1 c2 ->\n",
    "    match c1 with\n",
    "    | x :: xs -> x :: concat xs c2\n",
    "    | [] -> c2 *)\n",
    "\n",
    "  type ('n, 'g, 'a) rhs = ('n, 'g, unit) context -> 'a code\n",
    "  let rmap : 'a 'g 'd 'b 'n 'm. ('m, 'n, 'g, 'd, unit) renaming -> ('n, 'd, 'a) rhs -> ('m, 'g, 'a) rhs =\n",
    "    fun r rhs env -> rhs (r env)\n",
    "end"
   ]
  },
  {
   "cell_type": "markdown",
   "metadata": {},
   "source": [
    "Now let's enable concatenation"
   ]
  },
  {
   "cell_type": "code",
   "execution_count": 27,
   "metadata": {
    "vscode": {
     "languageId": "ocaml"
    }
   },
   "outputs": [
    {
     "name": "stderr",
     "output_type": "stream",
     "text": [
      "File \"[27]\", line 19, characters 99-131:\n",
      "19 |   let swap : 'n 'k 'a 'b 'g 'c. ('n s s, 'n s s,'k, 'a * ('b * 'g), 'b * ('a * 'g), 'c) renaming = fun (a :: b :: g) -> b :: a :: g\n",
      "                                                                                                        ^^^^^^^^^^^^^^^^^^^^^^^^^^^^^^^^\n",
      "Warning 8 [partial-match]: this pattern-matching is not exhaustive.\n",
      "Here is an example of a case that is not matched:\n",
      "_::[]\n"
     ]
    },
    {
     "data": {
      "text/plain": [
       "module Ctx :\n",
       "  sig\n",
       "    type 'a var = 'a code\n",
       "    and 'a code = 'a\n",
       "    type z = unit\n",
       "    type 'n s = 'n * unit\n",
       "    type (_, _, _) context =\n",
       "        (::) : 'hd var *\n",
       "          ('n * 'm, 'tl, 'a) context -> ('n s * 'm, 'hd * 'tl, 'a) context\n",
       "      | [] : ('m * 'm, 'a, 'a) context\n",
       "    type ('n, 'm, 'k, 'g, 'd, 'a) renaming =\n",
       "        ('n * 'k, 'g, 'a) context -> ('m * 'k, 'd, 'a) context\n",
       "    val id : ('n, 'n, 'k, 'g, 'g, 'a) renaming\n",
       "    val compose :\n",
       "      ('n, 'm, 'l, 'g, 'd, 'a) renaming ->\n",
       "      ('m, 'k, 'l, 'd, 'h, 'a) renaming -> ('n, 'k, 'l, 'g, 'h, 'a) renaming\n",
       "    val weaken : 'a var -> ('n, 'n s, 'k, 'g, 'a * 'g, 'b) renaming\n",
       "    val swap :\n",
       "      ('n s s, 'n s s, 'k, 'a * ('b * 'g), 'b * ('a * 'g), 'c) renaming\n",
       "  end\n"
      ]
     },
     "execution_count": 27,
     "metadata": {},
     "output_type": "execute_result"
    }
   ],
   "source": [
    "module Ctx = struct\n",
    "  type 'a var = 'a code\n",
    "  and 'a code = 'a\n",
    "\n",
    "  type z = unit\n",
    "  type 'n s = 'n * unit\n",
    "\n",
    "  type (_, _, _) context =\n",
    "    | ( :: ) : 'hd var * ('n * 'm, 'tl, 'a) context -> ('n s * 'm, 'hd * 'tl, 'a) context\n",
    "    | [] : ('m * 'm, 'a, 'a) context (* Another tail pointer here ;-; *)\n",
    "\n",
    "  (* n -> m renaming *)\n",
    "  type ('n, 'm, 'k, 'g, 'd, 'a) renaming = ('n * 'k, 'g, 'a) context -> ('m * 'k, 'd, 'a) context\n",
    "  let id : 'n 'k 'g 'a. ('n, 'n, 'k, 'g, 'g, 'a) renaming = fun g -> g\n",
    "  let compose : 'n 'm 'k 'g 'd 'h 'a 'l. ('n, 'm, 'l, 'g, 'd, 'a) renaming -> ('m, 'k, 'l, 'd, 'h, 'a) renaming -> ('n, 'k, 'l, 'g, 'h, 'a) renaming =\n",
    "    fun r1 r2 env -> r2 (r1 env)\n",
    "  let weaken : 'n 'k 'a 'g 'b. 'a var -> ('n, 'n s, 'k, 'g, 'a * 'g, 'b) renaming = fun x g -> x :: g\n",
    "  (* source of warning here. *)\n",
    "  let swap : 'n 'k 'a 'b 'g 'c. ('n s s, 'n s s,'k, 'a * ('b * 'g), 'b * ('a * 'g), 'c) renaming = fun (a :: b :: g) -> b :: a :: g\n",
    "\n",
    "  (* let rec concat : type n m a b c. (n, a, b) context -> (b, c) context -> (a, c) context = fun c1 c2 ->\n",
    "    match c1 with\n",
    "    | x :: xs -> x :: concat xs c2\n",
    "    | [] -> c2 *)\n",
    "\n",
    "  (*type ('n, 'g, 'a) rhs = ('n, 'g, unit) context -> 'a code\n",
    "  let rmap : 'a 'g 'd 'b 'n 'm. ('m, 'n, 'g, 'd, unit) renaming -> ('n, 'd, 'a) rhs -> ('m, 'g, 'a) rhs =\n",
    "    fun r rhs env -> rhs (r env) *)\n",
    "end"
   ]
  },
  {
   "cell_type": "markdown",
   "metadata": {},
   "source": [
    "**We're back to square 1 LOL**\n",
    "\n",
    "In short, the problem is clear. \n",
    "- If we have a tail pointer, then we can't do swap properly, i.e. type checks but gives a partial match warning because the *base case* becomes of arbitrary type, and so saying `'n s s` doesn't actually help you make sure that you do have 2 elements on the front.\n",
    "- If we don't have a tail pointer then we can't concatenate properly on the type level."
   ]
  },
  {
   "cell_type": "markdown",
   "metadata": {},
   "source": [
    "## Try again with original representation"
   ]
  },
  {
   "cell_type": "code",
   "execution_count": 39,
   "metadata": {
    "vscode": {
     "languageId": "ocaml"
    }
   },
   "outputs": [
    {
     "data": {
      "text/plain": [
       "module type Pat =\n",
       "  sig\n",
       "    type ('a, 'f, 'r) pat\n",
       "    val int_ : int -> (int, 'r, 'r) pat\n",
       "    val any_ : ('a, 'r, 'r) pat\n",
       "    val var : ('a, 'a -> 'r, 'r) pat\n",
       "    val emptylist : ('a list, 'r, 'r) pat\n",
       "    val pair : ('a, 'k, 'j) pat -> ('b, 'j, 'r) pat -> ('a * 'b, 'k, 'r) pat\n",
       "    val cons :\n",
       "      ('a, 'k, 'j) pat -> ('a list, 'j, 'r) pat -> ('a list, 'k, 'r) pat\n",
       "    val or_ : ('a, 'k, 'r) pat -> ('a, 'k, 'r) pat -> ('a, 'k, 'r) pat\n",
       "    val rename : ('a, 'f -> 'g -> 'h, 'r) pat -> ('a, 'g -> 'f -> 'h, 'r) pat\n",
       "  end\n"
      ]
     },
     "execution_count": 39,
     "metadata": {},
     "output_type": "execute_result"
    }
   ],
   "source": [
    "module type Pat = sig\n",
    "  type ('a, 'f, 'r) pat\n",
    "  val int_ : int -> (int, 'r, 'r) pat\n",
    "  val any_ : ('a, 'r, 'r) pat\n",
    "  val var : ('a, 'a -> 'r, 'r) pat\n",
    "  val emptylist : ('a list, 'r, 'r) pat\n",
    "  val pair : ('a, 'k, 'j) pat -> ('b, 'j, 'r) pat -> ('a * 'b, 'k, 'r) pat\n",
    "  val cons : ('a, 'k, 'j) pat -> ('a list, 'j, 'r) pat -> ('a list, 'k, 'r) pat\n",
    "  val or_ : ('a, 'k, 'r) pat -> ('a, 'k, 'r) pat -> ('a, 'k, 'r) pat\n",
    "  val rename : ('a, 'f -> 'g -> 'h, 'r) pat -> ('a, 'g -> 'f -> 'h, 'r) pat\n",
    "end"
   ]
  },
  {
   "cell_type": "code",
   "execution_count": 41,
   "metadata": {
    "vscode": {
     "languageId": "ocaml"
    }
   },
   "outputs": [
    {
     "data": {
      "text/plain": [
       "module PattnMatch : Pat\n"
      ]
     },
     "execution_count": 41,
     "metadata": {},
     "output_type": "execute_result"
    }
   ],
   "source": [
    "module PattnMatch : Pat = struct\n",
    "  open Core.Option.Monad_infix\n",
    "  type ('a, 'f, 'r) pat = 'a -> 'f -> 'r option\n",
    "  let int_ i scrutinee cont = if i = scrutinee then Some (cont) else None\n",
    "  let any_ scrutinee cont = Some cont\n",
    "  let var scrutinee cont = Some (cont scrutinee)\n",
    "  let emptylist scrutinee cont = Some cont\n",
    "  let pair constr_left constr_right (scrutinee_left, scrutinee_right) cont = \n",
    "    constr_left scrutinee_left cont >>= fun m1 -> \n",
    "    constr_right scrutinee_right m1 >>= fun m2 -> \n",
    "    Some m2\n",
    "  let cons constr_left constr_right (scrutinee) cont = \n",
    "    match scrutinee with \n",
    "    | scrutinee_left :: scrutinee_right ->\n",
    "      constr_left scrutinee_left cont >>= fun m1 -> \n",
    "      constr_right scrutinee_right m1 >>= fun m2 ->\n",
    "      Some m2\n",
    "    | _ -> None\n",
    "  let or_ constr_left constr_right scrutinee cont = \n",
    "      match constr_left scrutinee cont with\n",
    "      | Some res -> Some res\n",
    "      | None -> constr_right scrutinee cont\n",
    "  let rename  = fun constr scrutinee cont -> constr scrutinee (fun x y -> cont y x)\n",
    "  (* TODO: implement this sort of renaming *)\n",
    "end"
   ]
  },
  {
   "cell_type": "markdown",
   "metadata": {},
   "source": [
    "## CPS"
   ]
  },
  {
   "cell_type": "code",
   "execution_count": 47,
   "metadata": {
    "vscode": {
     "languageId": "ocaml"
    }
   },
   "outputs": [
    {
     "ename": "error",
     "evalue": "compile_error",
     "output_type": "error",
     "traceback": [
      "File \"[47]\", lines 9-18, characters 6-3:\n 9 | ......struct\n10 |   open List\n11 |   type ('i, 'a) t_ = 'a list\n12 |   type (+'length, +'elem_type, 'b) t = (('length, 'elem_type) t_ -> 'b) -> 'b\n13 |   let nil = []\n14 |   let cons (x, xs) = (x :: xs)\n15 |   let append (xs, ys) = xs @ ys\n16 |   let to_list xs = xs\n17 |   (* let swap (x::y::xs) = y::x::xs *)\n18 | end\nError: Signature mismatch:\n       ...\n       Values do not match:\n         val nil : 'a list\n       is not included in\n         val nil : ('m * 'm, 'a, 'b) t\n       File \"[47]\", line 4, characters 2-29: Expected declaration\n       File \"[47]\", line 13, characters 6-9: Actual declaration\n"
     ]
    }
   ],
   "source": [
    "module NList : sig\n",
    "  type (+'length, +'elem_type) t_\n",
    "  type (+'length, +'elem_type, 'b) t = (('length, 'elem_type) t_ -> 'b) -> 'b\n",
    "  val nil : ('m*'m, 'a, 'b) t\n",
    "  val cons : 'a * ('m*'n, 'a, 'b) t -> ('m*'n s, 'a, 'b) t\n",
    "  val append : ('m*'n, 'a, 'b) t * ('l*'m, 'a, 'b) t -> ('l*'n, 'a, 'b) t\n",
    "  val to_list : ('i, 'a, 'b) t -> 'a list \n",
    "  (* val swap : ('n s s * 'm, 'a) t -> ('n s s * 'm, 'a) t *)\n",
    "end = struct\n",
    "  open List\n",
    "  type ('i, 'a) t_ = 'a list\n",
    "  type (+'length, +'elem_type, 'b) t = (('length, 'elem_type) t_ -> 'b) -> 'b\n",
    "\n",
    "  let nil = []\n",
    "  let cons (x, xs) = (x :: xs)\n",
    "  let append (xs, ys) = xs @ ys\n",
    "  let to_list xs = xs\n",
    "  (* let swap (x::y::xs) = y::x::xs *)\n",
    "end"
   ]
  },
  {
   "cell_type": "markdown",
   "metadata": {},
   "source": [
    "## Recursive Definition of the function 'f = 'a -> 'a2 -> ... 'an -> 'r"
   ]
  },
  {
   "cell_type": "code",
   "execution_count": 128,
   "metadata": {
    "vscode": {
     "languageId": "ocaml"
    }
   },
   "outputs": [
    {
     "name": "stderr",
     "output_type": "stream",
     "text": [
      "File \"[128]\", line 10, characters 133-160:\n",
      "10 |   let swap : 'a 'b 'g 'r. ('a var -> ('b var -> 'g), 'b var -> ('a var -> 'g), 'r) renaming = fun (S (f)) -> S (fun b -> S (fun a -> match f a with (S g) -> g b))\n",
      "                                                                                                                                          ^^^^^^^^^^^^^^^^^^^^^^^^^^^\n",
      "Warning 8 [partial-match]: this pattern-matching is not exhaustive.\n",
      "Here is an example of a case that is not matched:\n",
      "Z _\n",
      "File \"[128]\", line 10, characters 94-162:\n",
      "10 |   let swap : 'a 'b 'g 'r. ('a var -> ('b var -> 'g), 'b var -> ('a var -> 'g), 'r) renaming = fun (S (f)) -> S (fun b -> S (fun a -> match f a with (S g) -> g b))\n",
      "                                                                                                   ^^^^^^^^^^^^^^^^^^^^^^^^^^^^^^^^^^^^^^^^^^^^^^^^^^^^^^^^^^^^^^^^^^^^\n",
      "Warning 8 [partial-match]: this pattern-matching is not exhaustive.\n",
      "Here is an example of a case that is not matched:\n",
      "Z _\n"
     ]
    },
    {
     "data": {
      "text/plain": [
       "module Ctx_bis :\n",
       "  sig\n",
       "    type 'a var\n",
       "    type (_, _) context =\n",
       "        Z : 'r -> ('r, 'r) context\n",
       "      | S : ('a var -> ('g, 'r) context) -> ('a var -> 'g, 'r) context\n",
       "    type ('g, 'd, 'r) renaming = ('g, 'r) context -> ('d, 'r) context\n",
       "    val id : ('g, 'g, 'r) renaming\n",
       "    val compose :\n",
       "      ('g, 'd, 'r) renaming -> ('d, 'h, 'r) renaming -> ('g, 'h, 'r) renaming\n",
       "    val weaken : ('g, 'a var -> 'g, 'r) renaming\n",
       "    val swap : ('a var -> 'b var -> 'g, 'b var -> 'a var -> 'g, 'r) renaming\n",
       "  end\n"
      ]
     },
     "execution_count": 128,
     "metadata": {},
     "output_type": "execute_result"
    }
   ],
   "source": [
    "module Ctx_bis = struct \n",
    "  type 'a var\n",
    "  (* Logic behind this: context is a *function type* represented as HOAS that I can do manipulations on *)\n",
    "  type (_, _) context = | Z : 'r -> ('r, 'r) context | S : ('a var -> ('g, 'r) context) -> ('a var -> 'g, 'r) context\n",
    "  type ('g, 'd, 'r) renaming = ('g, 'r) context -> ('d, 'r) context\n",
    "  let id : 'g. ('g, 'g, 'r) renaming = fun g -> g\n",
    "  let compose : 'g 'd 'h 'r. ('g, 'd, 'r) renaming -> ('d, 'h, 'r) renaming -> ('g, 'h, 'r) renaming =\n",
    "    fun r1 r2 env -> r2 (r1 env)\n",
    "  let weaken : 'a 'g 'r. ('g, 'a var ->'g, 'r) renaming = fun g -> S (fun _ -> g)\n",
    "  let swap : 'a 'b 'g 'r. ('a var -> ('b var -> 'g), 'b var -> ('a var -> 'g), 'r) renaming = fun (S (f)) -> S (fun b -> S (fun a -> match f a with (S g) -> g b))\n",
    "\n",
    "  (*type ('g, 'a) rhs = 'g context -> 'a code\n",
    "  let rmap : 'a 'g 'd. ('g, 'd) renaming -> ('d, 'a) rhs -> ('g, 'a) rhs =\n",
    "    fun r rhs env -> rhs (r env)   *)\n",
    "end"
   ]
  },
  {
   "cell_type": "markdown",
   "metadata": {},
   "source": [
    "**TODO: Figure out why this is**\n",
    "\n",
    "Say we have `('f, 'r) context`.\n",
    "\n",
    "SMH the tag here seems to be the problem? Because this doesn't type check for general uses, but **it should** for the specific case where `'f` is used as an argument and not the return value, which is how we use it anyway. **Maybe try tagless final**.\n",
    "\n",
    "Before this we try the original renaming on the pattern directly."
   ]
  },
  {
   "cell_type": "markdown",
   "metadata": {},
   "source": [
    "## Renaming original"
   ]
  },
  {
   "cell_type": "markdown",
   "metadata": {},
   "source": [
    "Try to do renaming directly on pattern. Doesn't work because weakening can't be done compositionally. "
   ]
  },
  {
   "cell_type": "code",
   "execution_count": 88,
   "metadata": {
    "vscode": {
     "languageId": "ocaml"
    }
   },
   "outputs": [
    {
     "data": {
      "text/plain": [
       "module type Pat =\n",
       "  sig\n",
       "    type ('a, 'f, 'r) pat\n",
       "    val int_ : int -> (int, 'r, 'r) pat\n",
       "    val any_ : ('a, 'r, 'r) pat\n",
       "    val var : ('a, 'a -> 'r, 'r) pat\n",
       "    val emptylist : ('a list, 'r, 'r) pat\n",
       "    val pair : ('a, 'k, 'j) pat -> ('b, 'j, 'r) pat -> ('a * 'b, 'k, 'r) pat\n",
       "    val cons :\n",
       "      ('a, 'k, 'j) pat -> ('a list, 'j, 'r) pat -> ('a list, 'k, 'r) pat\n",
       "    val or_ : ('a, 'k, 'r) pat -> ('a, 'k, 'r) pat -> ('a, 'k, 'r) pat\n",
       "    val exchange :\n",
       "      ('a, 'f -> 'g -> 'h, 'r) pat -> ('a, 'g -> 'f -> 'h, 'r) pat\n",
       "  end\n"
      ]
     },
     "execution_count": 88,
     "metadata": {},
     "output_type": "execute_result"
    },
    {
     "data": {
      "text/plain": [
       "module PattnMatch : Pat\n"
      ]
     },
     "execution_count": 88,
     "metadata": {},
     "output_type": "execute_result"
    }
   ],
   "source": [
    "module type Pat = sig\n",
    "  type ('a, 'f, 'r) pat\n",
    "  val int_ : int -> (int, 'r, 'r) pat\n",
    "  val any_ : ('a, 'r, 'r) pat\n",
    "  val var : ('a, 'a -> 'r, 'r) pat\n",
    "  val emptylist : ('a list, 'r, 'r) pat\n",
    "  val pair : ('a, 'k, 'j) pat -> ('b, 'j, 'r) pat -> ('a * 'b, 'k, 'r) pat\n",
    "  val cons : ('a, 'k, 'j) pat -> ('a list, 'j, 'r) pat -> ('a list, 'k, 'r) pat\n",
    "  val or_ : ('a, 'k, 'r) pat -> ('a, 'k, 'r) pat -> ('a, 'k, 'r) pat\n",
    "  val exchange : ('a, 'f -> 'g -> 'h, 'r) pat -> ('a, 'g -> 'f -> 'h, 'r) pat\n",
    "  (* val weaken : ('a, 'h, 'r) pat -> ('a, 'f -> 'h, 'r) pat *)\n",
    "end\n",
    "\n",
    "module PattnMatch : Pat = struct\n",
    "  open Core.Option.Monad_infix\n",
    "  type ('a, 'f, 'r) pat = 'a -> 'f -> 'r option\n",
    "  let int_ i scrutinee cont = if i = scrutinee then Some (cont) else None\n",
    "  let any_ scrutinee cont = Some cont\n",
    "  let var scrutinee cont = Some (cont scrutinee)\n",
    "  let emptylist scrutinee cont = Some cont\n",
    "  let pair constr_left constr_right (scrutinee_left, scrutinee_right) cont = \n",
    "    constr_left scrutinee_left cont >>= fun m1 -> \n",
    "    constr_right scrutinee_right m1 >>= fun m2 -> \n",
    "    Some m2\n",
    "  let cons constr_left constr_right (scrutinee) cont = \n",
    "    match scrutinee with \n",
    "    | scrutinee_left :: scrutinee_right ->\n",
    "      constr_left scrutinee_left cont >>= fun m1 -> \n",
    "      constr_right scrutinee_right m1 >>= fun m2 ->\n",
    "      Some m2\n",
    "    | _ -> None\n",
    "  let or_ constr_left constr_right scrutinee cont = \n",
    "      match constr_left scrutinee cont with\n",
    "      | Some res -> Some res\n",
    "      | None -> constr_right scrutinee cont\n",
    "  (* Doesn't work*)\n",
    "  let exchange  = fun constr scrutinee cont -> constr scrutinee (fun x y -> cont y x)\n",
    "  (* let weaken constr scrutinee cont = constr scrutinee (cont)  *)\n",
    "  (* TODO: implement this sort of renaming *)\n",
    "end"
   ]
  },
  {
   "cell_type": "code",
   "execution_count": null,
   "metadata": {
    "vscode": {
     "languageId": "ocaml"
    }
   },
   "outputs": [],
   "source": []
  },
  {
   "cell_type": "markdown",
   "metadata": {},
   "source": [
    "## Try to do tagless."
   ]
  },
  {
   "cell_type": "code",
   "execution_count": 104,
   "metadata": {
    "vscode": {
     "languageId": "ocaml"
    }
   },
   "outputs": [
    {
     "data": {
      "text/plain": [
       "module type Ctx_tagless =\n",
       "  sig\n",
       "    type ('g, 'r) repr\n",
       "    val z : ('r, 'r) repr\n",
       "    val s : ('a -> ('g, 'r) repr) -> ('a -> 'g, 'r) repr\n",
       "    val weaken : ('g, 'r) repr -> ('a -> 'g, 'r) repr\n",
       "    val exchange : ('a -> 'b -> 'g, 'r) repr -> ('b -> 'a -> 'g, 'r) repr\n",
       "    val concat : ('g, 'h) repr -> ('h, 'r) repr -> ('g, 'r) repr\n",
       "  end\n"
      ]
     },
     "execution_count": 104,
     "metadata": {},
     "output_type": "execute_result"
    }
   ],
   "source": [
    "module type Ctx_tagless = sig\n",
    "  type ('g, 'r) repr\n",
    "  val z : ('r, 'r) repr\n",
    "  val s : ('a -> ('g, 'r) repr) -> ('a -> 'g, 'r) repr\n",
    "  val weaken : ('g, 'r) repr -> ('a -> 'g, 'r) repr\n",
    "  val exchange : ('a -> 'b -> 'g, 'r) repr -> ('b -> 'a -> 'g, 'r) repr\n",
    "  val concat : ('g, 'h) repr -> ('h, 'r) repr -> ('g, 'r) repr\n",
    "end"
   ]
  },
  {
   "cell_type": "code",
   "execution_count": 107,
   "metadata": {
    "vscode": {
     "languageId": "ocaml"
    }
   },
   "outputs": [
    {
     "ename": "error",
     "evalue": "compile_error",
     "output_type": "error",
     "traceback": [
      "File \"[107]\", lines 8-16, characters 5-3:\n 8 | .....struct\n 9 |   (* forall 'r. ((ctx -> 'r) -> 'r) -> 'r*)\n10 |   type ('g, 'r) repr = 'g\n11 |   let z r = r\n12 |   let s f = f\n13 |   let weaken f _ = f\n14 |   let exchange f = fun b a -> f a b\n15 |   let concat (f : ('g, 'h) repr) (g: ('h, 'r) repr) = g (*Wrong*)\n16 | end\nError: Signature mismatch:\n       ...\n       Values do not match:\n         val concat : ('g, 'h) repr -> ('h, 'r) repr -> ('h, 'r) repr\n       is not included in\n         val concat : ('g, 'h) repr -> ('h, 'r) repr -> ('g, 'r) repr\n       File \"[107]\", line 7, characters 2-62: Expected declaration\n       File \"[107]\", line 15, characters 6-12: Actual declaration\n"
     ]
    }
   ],
   "source": [
    "module Ctx_tagless_impl : sig\n",
    "  type ('g, 'r) repr\n",
    "  val z : 'r -> ('r, 'r) repr\n",
    "  val s : ('a -> ('g, 'r) repr) -> ('a -> 'g, 'r) repr\n",
    "  val weaken : ('g, 'r) repr -> ('a -> 'g, 'r) repr\n",
    "  val exchange : ('a -> 'b -> 'g, 'r) repr -> ('b -> 'a -> 'g, 'r) repr\n",
    "  val concat : ('g, 'h) repr -> ('h, 'r) repr -> ('g, 'r) repr\n",
    "end= struct\n",
    "  (* forall 'r. ((ctx -> 'r) -> 'r) -> 'r*)\n",
    "  type ('g, 'r) repr = 'g\n",
    "  let z r = r\n",
    "  let s f = f\n",
    "  let weaken f _ = f\n",
    "  let exchange f = fun b a -> f a b\n",
    "  let concat (f : ('g, 'h) repr) (g: ('h, 'r) repr) = g (*Wrong*)\n",
    "end"
   ]
  },
  {
   "cell_type": "code",
   "execution_count": 124,
   "metadata": {
    "vscode": {
     "languageId": "ocaml"
    }
   },
   "outputs": [
    {
     "data": {
      "text/plain": [
       "module type Ctx_tagless =\n",
       "  sig\n",
       "    type ('g, 'r) repr\n",
       "    val z : ('r, 'r) repr\n",
       "    val s : 'a -> ('g, 'r) repr -> ('a -> 'g, 'r) repr\n",
       "  end\n"
      ]
     },
     "execution_count": 124,
     "metadata": {},
     "output_type": "execute_result"
    },
    {
     "data": {
      "text/plain": [
       "module Ctx_tagless_impl : Ctx_tagless\n"
      ]
     },
     "execution_count": 124,
     "metadata": {},
     "output_type": "execute_result"
    }
   ],
   "source": [
    "module type Ctx_tagless = sig\n",
    "  type ('g, 'r) repr\n",
    "  val z : ('r, 'r) repr\n",
    "  val s : 'a -> (('g, 'r) repr) -> ('a -> 'g, 'r) repr\n",
    "  val weaken : ('g, 'r) repr -> ('a -> 'g, 'r) repr\n",
    "  (*val exchange : ('a -> 'b -> 'g, 'r) repr -> ('b -> 'a -> 'g, 'r) repr\n",
    "  val concat : ('g, 'h) repr -> ('h, 'r) repr -> ('g, 'r) repr *)\n",
    "end\n",
    "module Ctx_tagless_impl : Ctx_tagless = struct\n",
    "  (* forall 'r. ((ctx -> 'r) -> 'r) -> 'r*)\n",
    "  type ('g, 'h) repr = ('g -> 'h) (* Problem here: doesn't enforce the tail ptr. *)\n",
    "  let z r = r\n",
    "  let s a gr ag = gr (ag a)\n",
    "  let weaken gr ag = ?\n",
    "  (* let weaken f _ = f\n",
    "  let exchange f = fun b a -> f a b\n",
    "  let concat (f : ('g, 'h) repr) (g: ('h, 'r) repr) = g Wrong *)\n",
    "end"
   ]
  },
  {
   "cell_type": "code",
   "execution_count": null,
   "metadata": {
    "vscode": {
     "languageId": "ocaml"
    }
   },
   "outputs": [],
   "source": []
  },
  {
   "cell_type": "markdown",
   "metadata": {},
   "source": [
    "## Solutions search\n",
    "\n",
    "- https://okmij.org/ftp/Haskell/HList-ext.pdf\n",
    "- https://github.com/keigoi/hlist-ocaml/blob/main/hlist.ml\n",
    "- https://discuss.ocaml.org/t/a-heterogenous-list-difflist-that-you-can-both-append-to-and-safely-access-elements/3205/9\n",
    "\n",
    "The last one saves my life\n",
    "\n",
    "Also discussion on converting hlist to 'a -> 'b -> 'r \n",
    "- https://discuss.ocaml.org/t/ctypes-and-heterogeneous-list-typing-problem/14061/7\n",
    "- https://discuss.ocaml.org/t/heterogeneous-lists-difflist-puzzle-functions-versus-pairs/11206/2\n",
    "\n",
    "Other\n",
    "- https://gist.github.com/sim642/528c293e54e45bc86f9efbc3af456295\n",
    "- https://drup.github.io/2016/08/02/difflists/\n",
    "- https://stackoverflow.com/questions/73693786/ocaml-how-to-implement-swap-on-a-heterogeneous-list"
   ]
  },
  {
   "cell_type": "code",
   "execution_count": 139,
   "metadata": {
    "vscode": {
     "languageId": "ocaml"
    }
   },
   "outputs": [
    {
     "data": {
      "text/plain": [
       "module Ctx :\n",
       "  sig\n",
       "    type 'a var = 'a code\n",
       "    and 'a code = 'a\n",
       "    type (_, _) context =\n",
       "        (::) : 'hd var * ('tl, 'a) context -> ('hd * 'tl, 'a) context\n",
       "      | [] : ('a, 'a) context\n",
       "    type ('g, 'd, 'a) renaming = ('g, 'a) context -> ('d, 'a) context\n",
       "    val id : ('g, 'g, 'a) renaming\n",
       "    val compose :\n",
       "      ('g, 'd, 'a) renaming -> ('d, 'h, 'a) renaming -> ('g, 'h, 'a) renaming\n",
       "    val weaken : 'a var -> ('g, 'a * 'g, 'b) renaming\n",
       "    val swap : ('a * ('b * 'g), 'b * ('a * 'g), unit) renaming\n",
       "    val concat : ('a, 'b) context -> ('b, 'c) context -> ('a, 'c) context\n",
       "    type ('g, 'a) rhs = ('g, unit) context -> 'a code\n",
       "    val rmap : ('g, 'd, unit) renaming -> ('d, 'a) rhs -> ('g, 'a) rhs\n",
       "  end\n"
      ]
     },
     "execution_count": 139,
     "metadata": {},
     "output_type": "execute_result"
    }
   ],
   "source": [
    "module Ctx = struct\n",
    "  type 'a var = 'a code\n",
    "  and 'a code = 'a\n",
    "\n",
    "  type (_, _) context =\n",
    "    | ( :: ) : 'hd var * ('tl, 'a) context -> ('hd * 'tl, 'a) context\n",
    "    | [] : ('a, 'a) context\n",
    "\n",
    "  type ('g, 'd, 'a) renaming = ('g, 'a) context -> ('d, 'a) context\n",
    "  let id : 'g 'a. ('g, 'g, 'a) renaming = fun g -> g\n",
    "  let compose : 'g 'd 'h 'a. ('g, 'd, 'a) renaming -> ('d, 'h, 'a) renaming -> ('g, 'h, 'a) renaming =\n",
    "    fun r1 r2 env -> r2 (r1 env)\n",
    "  let weaken : 'a 'g 'b. 'a var -> ('g, 'a * 'g, 'b) renaming = fun x g -> x :: g\n",
    "  (* Source of warning here. Only allow swap if the context is completely sealed. *)\n",
    "  let swap : 'a 'b 'g 'c. ('a * ('b * 'g), 'b * ('a * 'g), unit) renaming = fun (a :: b :: g) -> b :: a :: g\n",
    "\n",
    "  let rec concat : type a b c. (a, b) context -> (b, c) context -> (a, c) context = fun c1 c2 ->\n",
    "    match c1 with\n",
    "    | x :: xs -> x :: concat xs c2\n",
    "    | [] -> c2\n",
    "\n",
    "  (* Enable conversion *)\n",
    "  (* let rec convert : type a r. (a -> r) -> (a, unit) context -> r = fun far ctx -> \n",
    "    match ctx with\n",
    "    | x :: xs -> convert (far x) xs\n",
    "    | [] -> far () *)\n",
    "\n",
    "  type ('g, 'a) rhs = ('g, unit) context -> 'a code\n",
    "  let rmap : 'a 'g 'd 'b. ('g, 'd, unit) renaming -> ('d, 'a) rhs -> ('g, 'a) rhs =\n",
    "    fun r rhs env -> rhs (r env)\n",
    "end"
   ]
  },
  {
   "cell_type": "code",
   "execution_count": 141,
   "metadata": {
    "vscode": {
     "languageId": "ocaml"
    }
   },
   "outputs": [
    {
     "name": "stderr",
     "output_type": "stream",
     "text": [
      "File \"[141]\", line 11, characters 133-160:\n",
      "11 |   let swap : 'a 'b 'g 'r. ('a var -> ('b var -> 'g), 'b var -> ('a var -> 'g), 'r) renaming = fun (S (f)) -> S (fun b -> S (fun a -> match f a with (S g) -> g b))\n",
      "                                                                                                                                          ^^^^^^^^^^^^^^^^^^^^^^^^^^^\n",
      "Warning 8 [partial-match]: this pattern-matching is not exhaustive.\n",
      "Here is an example of a case that is not matched:\n",
      "Z _\n",
      "File \"[141]\", line 11, characters 94-162:\n",
      "11 |   let swap : 'a 'b 'g 'r. ('a var -> ('b var -> 'g), 'b var -> ('a var -> 'g), 'r) renaming = fun (S (f)) -> S (fun b -> S (fun a -> match f a with (S g) -> g b))\n",
      "                                                                                                   ^^^^^^^^^^^^^^^^^^^^^^^^^^^^^^^^^^^^^^^^^^^^^^^^^^^^^^^^^^^^^^^^^^^^\n",
      "Warning 8 [partial-match]: this pattern-matching is not exhaustive.\n",
      "Here is an example of a case that is not matched:\n",
      "Z _\n"
     ]
    },
    {
     "data": {
      "text/plain": [
       "module Ctx_bis :\n",
       "  sig\n",
       "    type 'a var\n",
       "    type (_, _) context =\n",
       "        Z : 'r -> ('r, 'r) context\n",
       "      | S : ('a var -> ('g, 'r) context) -> ('a var -> 'g, 'r) context\n",
       "    type ('g, 'd, 'r) renaming = ('g, 'r) context -> ('d, 'r) context\n",
       "    val id : ('g, 'g, 'r) renaming\n",
       "    val compose :\n",
       "      ('g, 'd, 'r) renaming -> ('d, 'h, 'r) renaming -> ('g, 'h, 'r) renaming\n",
       "    val weaken : ('g, 'a var -> 'g, 'r) renaming\n",
       "    val swap : ('a var -> 'b var -> 'g, 'b var -> 'a var -> 'g, 'r) renaming\n",
       "  end\n"
      ]
     },
     "execution_count": 141,
     "metadata": {},
     "output_type": "execute_result"
    }
   ],
   "source": [
    "module Ctx_bis = struct \n",
    "  type 'a var\n",
    "\n",
    "  (* Logic behind this: context is a *function type* represented as HOAS that I can do manipulations on *)\n",
    "  type (_, _) context = | Z : 'r -> ('r, 'r) context | S : ('a var -> ('g, 'r) context) -> ('a var -> 'g, 'r) context\n",
    "  type ('g, 'd, 'r) renaming = ('g, 'r) context -> ('d, 'r) context\n",
    "  let id : 'g. ('g, 'g, 'r) renaming = fun g -> g\n",
    "  let compose : 'g 'd 'h 'r. ('g, 'd, 'r) renaming -> ('d, 'h, 'r) renaming -> ('g, 'h, 'r) renaming =\n",
    "    fun r1 r2 env -> r2 (r1 env)\n",
    "  let weaken : 'a 'g 'r. ('g, 'a var ->'g, 'r) renaming = fun g -> S (fun _ -> g)\n",
    "  let swap : 'a 'b 'g 'r. ('a var -> ('b var -> 'g), 'b var -> ('a var -> 'g), 'r) renaming = fun (S (f)) -> S (fun b -> S (fun a -> match f a with (S g) -> g b))\n",
    "\n",
    "  (*type ('g, 'a) rhs = 'g context -> 'a code\n",
    "  let rmap : 'a 'g 'd. ('g, 'd) renaming -> ('d, 'a) rhs -> ('g, 'a) rhs =\n",
    "    fun r rhs env -> rhs (r env)   *)\n",
    "end"
   ]
  },
  {
   "cell_type": "code",
   "execution_count": 142,
   "metadata": {
    "vscode": {
     "languageId": "ocaml"
    }
   },
   "outputs": [],
   "source": [
    "(* type (_, _, _) pat = \n",
    "    Any : ('a, 'r, 'r) pat\n",
    "  | Int : int -> (int, 'r, 'r) pat\n",
    "  | Var : ('a, 'a -> 'r, 'r) pat (* Would be 'a code here instead *)\n",
    "  | EmptyList : ('a list, 'r, 'r) pat\n",
    "  | Pair : ('a, 'k, 'j) pat * ('b, 'j, 'r) pat -> ('a * 'b, 'k, 'r) pat\n",
    "  | Cons : ('a, 'k, 'j) pat * ('a list, 'j, 'r) pat -> ('a list, 'k, 'r) pat *)"
   ]
  },
  {
   "cell_type": "code",
   "execution_count": 153,
   "metadata": {
    "vscode": {
     "languageId": "ocaml"
    }
   },
   "outputs": [
    {
     "data": {
      "text/plain": [
       "type (_, _, _) pwr =\n",
       "    Any : ('a, 'r, 'r) pwr\n",
       "  | Int : int -> (int, 'r, 'r) pwr\n",
       "  | Var : ('a, 'a * 'r, 'r) pwr\n",
       "  | EmptyList : ('a list, 'r, 'r) pwr\n",
       "  | Pair : ('a, 'k, 'j) pwr * ('b, 'j, 'r) pwr -> ('a * 'b, 'k, 'r) pwr\n",
       "  | Cons : ('a, 'k, 'j) pwr * ('a list, 'j, 'r) pwr -> ('a list, 'k, 'r) pwr\n"
      ]
     },
     "execution_count": 153,
     "metadata": {},
     "output_type": "execute_result"
    },
    {
     "data": {
      "text/plain": [
       "type (_, _) top_pwr =\n",
       "    Pwr : ('a, 'k, unit) pwr -> ('a, 'k) top_pwr\n",
       "  | Or : ('a, 'k) top_pwr * ('a, 'k) top_pwr -> ('a, 'k) top_pwr\n"
      ]
     },
     "execution_count": 153,
     "metadata": {},
     "output_type": "execute_result"
    }
   ],
   "source": [
    "(* type (_, _, _) pwr = \n",
    "  | Any : ('a, 'r, 'r) pwr\n",
    "  | Int : int -> (int, 'r, 'r) pwr\n",
    "  | Var : ('a, ('a * 'r), 'r) pwr\n",
    "  | EmptyList : ('a list, 'r, 'r) pwr\n",
    "  | Pair : ('a, 'k, 'j) pwr * ('b, 'j, 'r) pwr -> ('a * 'b, 'k, 'r) pwr\n",
    "  | Cons : ('a, 'k, 'j) pwr * ('a list, 'j, 'r) pwr -> ('a list, 'k, 'r) pwr\n",
    "type (_, _) top_pwr = \n",
    "  | Pwr : ('a, 'k, unit) pwr -> ('a, 'k) top_pwr (* Sealed *)\n",
    "  | Or : ('a, 'k) top_pwr * ('a, 'k) top_pwr -> ('a, 'k) top_pwr *)\n"
   ]
  },
  {
   "cell_type": "code",
   "execution_count": null,
   "metadata": {
    "vscode": {
     "languageId": "ocaml"
    }
   },
   "outputs": [
    {
     "data": {
      "text/plain": [
       "module Pat_Ctx :\n",
       "  sig\n",
       "    type (_, _) pwr =\n",
       "        Any : ('a, ('r, 'r) Ctx.context) pwr\n",
       "      | Int : int -> (int, ('r, 'r) Ctx.context) pwr\n",
       "      | Var : ('a, ('a * 'r, 'r) Ctx.context) pwr\n",
       "      | EmptyList : ('a list, ('r, 'r) Ctx.context) pwr\n",
       "      | Pair : ('a, ('k, 'j) Ctx.context) pwr *\n",
       "          ('b, ('j, 'r) Ctx.context) pwr -> ('a * 'b, ('k, 'r) Ctx.context)\n",
       "                                            pwr\n",
       "      | Cons : ('a, ('k, 'j) Ctx.context) pwr *\n",
       "          ('a list, ('j, 'r) Ctx.context) pwr -> ('a list,\n",
       "                                                  ('k, 'r) Ctx.context)\n",
       "                                                 pwr\n",
       "    type (_, _) top_pwr =\n",
       "        Pwr : ('a, ('k, unit) Ctx.context) pwr -> ('a, 'k) top_pwr\n",
       "      | Or : ('a, 'k) top_pwr * ('a, 'k) top_pwr -> ('a, 'k) top_pwr\n",
       "  end\n"
      ]
     },
     "execution_count": 160,
     "metadata": {},
     "output_type": "execute_result"
    }
   ],
   "source": [
    "module Pat_Ctx = struct\n",
    "  (* Feels like after we have a Ctx it's better to do tagless final *)\n",
    "  open Ctx\n",
    "  type (_, _) pwr = \n",
    "  | Any : ('a, ('r, 'r) context) pwr\n",
    "  | Int : int -> (int, ('r, 'r) context) pwr\n",
    "  | Var : ('a, (('a * 'r), 'r) context) pwr\n",
    "  | EmptyList : ('a list, ('r, 'r) context) pwr\n",
    "  | Pair : ('a, ('k, 'j) context) pwr * ('b, ('j, 'r) context) pwr -> ('a * 'b, ('k, 'r) context) pwr\n",
    "  | Cons : ('a, ('k, 'j) context) pwr * ('a list, ('j, 'r) context) pwr -> ('a list, ('k, 'r) context) pwr\n",
    "  \n",
    "  type (_, _) top_pwr = \n",
    "  | Pwr : ('a, ('k, unit) context) pwr -> ('a, 'k) top_pwr (* Sealed *)\n",
    "  | Or : ('a, 'k) top_pwr * ('a, 'k) top_pwr -> ('a, 'k) top_pwr \n",
    "end\n"
   ]
  },
  {
   "cell_type": "markdown",
   "metadata": {},
   "source": [
    "The below tries to tagless-final it, but fails miserably because we can tagless final sth like `'a var -> context`, but this doesn't do CPS on the context and therefore doesn't achieve staging. Alternatively we could try `'a var -> ('ctx, 'tl) rhs -> 'r code option` but then this doesn't work either because `rhs` enforces a sealed context assumption. Finally trying manual CPS without sealed code assumption fails on pairs, because we simply don't have the elements that we need in the right direction.... We need to concatenate the context lists, on the LHS, such that the composition can become RHS."
   ]
  },
  {
   "cell_type": "code",
   "execution_count": null,
   "metadata": {
    "vscode": {
     "languageId": "ocaml"
    }
   },
   "outputs": [
    {
     "data": {
      "text/plain": [
       "module Pat_Ctx :\n",
       "  sig\n",
       "    type ('a, 'ctx, 'tail, 'r) repr =\n",
       "        'a Ctx.var -> (('ctx, 'tail) Ctx.context -> 'r) -> 'r option\n",
       "    val any_ : ('a, 'b, 'b, 'r) repr\n",
       "    val pair_ :\n",
       "      ('a, 'k, 'j, 'j -> 'r) repr ->\n",
       "      ('b, 'j, 'h, 'r) repr -> ('a * 'b, 'k, 'h, 'r) repr\n",
       "  end\n"
      ]
     },
     "execution_count": 178,
     "metadata": {},
     "output_type": "execute_result"
    }
   ],
   "source": [
    "module Pat_Ctx = struct\n",
    "  (* Feels like after we have a Ctx it's better to do tagless final *)\n",
    "  open Ctx\n",
    "  open Core.Option.Monad_infix\n",
    "  type ('a, 'ctx, 'tail, 'r) repr = 'a var -> (('ctx, 'tail) context -> 'r) -> 'r option\n",
    "\n",
    "  let any_ : ('a, 'b, 'b, 'r) repr = fun scrutinee cont -> Some (cont [])\n",
    "\n",
    "  (* let int_ : int -> (int, unit, 'r) repr = fun value scrutinee cont -> if (value = scrutinee) then Some (cont []) else None\n",
    "\n",
    "  let var_ : ('a, 'a * unit, 'r) repr = fun scrutinee cont -> Some (cont [scrutinee]) *)\n",
    "\n",
    "  (* let pair_ : ('a, ('k)) *)\n",
    "  let pair_ : ('a, 'k, 'j, 'j -> 'r) repr -> ('b, 'j, 'h, 'r) repr -> ('a * 'b, 'k, 'h, 'r) repr = fun r1 r2 (a, b) cont -> \n",
    "    failwith \"Here we get a failure because it's not in the right direction.\" (* ????? How to write this? *)\n",
    "  \n",
    "  (* We do not have (context -> 'r) -> 'r and (context -> 'r) -> 'r gives (context * context -> 'r) -> 'r. At the end we still need a representation like Ethan's just because we need sth *inherently in CPS form* *)\n",
    "\n",
    "  (* type (_, _) pwr = \n",
    "  | Any : ('a, ('r, 'r) context) pwr\n",
    "  | Int : int -> (int, ('r, 'r) context) pwr\n",
    "  | Var : ('a, (('a * 'r), 'r) context) pwr\n",
    "  | EmptyList : ('a list, ('r, 'r) context) pwr\n",
    "  | Pair : ('a, ('k, 'j) context) pwr * ('b, ('j, 'r) context) pwr -> ('a * 'b, ('k, 'r) context) pwr\n",
    "  | Cons : ('a, ('k, 'j) context) pwr * ('a list, ('j, 'r) context) pwr -> ('a list, ('k, 'r) context) pwr\n",
    "  \n",
    "  type (_, _) top_pwr = \n",
    "  | Pwr : ('a, ('k, unit) context) pwr -> ('a, 'k) top_pwr (* Sealed *)\n",
    "  | Or : ('a, 'k) top_pwr * ('a, 'k) top_pwr -> ('a, 'k) top_pwr  *)\n",
    "end\n"
   ]
  },
  {
   "cell_type": "code",
   "execution_count": null,
   "metadata": {
    "vscode": {
     "languageId": "ocaml"
    }
   },
   "outputs": [],
   "source": []
  }
 ],
 "metadata": {
  "kernelspec": {
   "display_name": "OCaml 4.12.0",
   "language": "OCaml",
   "name": "ocaml-jupyter-4.12.0"
  },
  "language_info": {
   "codemirror_mode": "text/x-ocaml",
   "file_extension": ".ml",
   "mimetype": "text/x-ocaml",
   "name": "OCaml",
   "nbconverter_exporter": null,
   "pygments_lexer": "OCaml",
   "version": "4.12.0"
  }
 },
 "nbformat": 4,
 "nbformat_minor": 2
}
