{
 "cells": [
  {
   "cell_type": "code",
   "execution_count": 44,
   "metadata": {
    "vscode": {
     "languageId": "ocaml"
    }
   },
   "outputs": [
    {
     "data": {
      "text/plain": [
       "type (_, _, _) pat =\n",
       "    Any : ('a, 'r, 'r) pat\n",
       "  | Int : int -> (int, 'r, 'r) pat\n",
       "  | Var : ('a, 'a -> 'r, 'r) pat\n",
       "  | EmptyList : ('a list, 'r, 'r) pat\n",
       "  | Pair : ('a, 'k, 'j) pat * ('b, 'j, 'r) pat -> ('a * 'b, 'k, 'r) pat\n",
       "  | Cons : ('a, 'k, 'j) pat * ('a list, 'j, 'r) pat -> ('a list, 'k, 'r) pat\n"
      ]
     },
     "execution_count": 44,
     "metadata": {},
     "output_type": "execute_result"
    }
   ],
   "source": [
    "type (_, _, _) pat = \n",
    "    Any : ('a, 'r, 'r) pat\n",
    "  | Int : int -> (int, 'r, 'r) pat\n",
    "  | Var : ('a, 'a -> 'r, 'r) pat (* Would be 'a code here instead *)\n",
    "  | EmptyList : ('a list, 'r, 'r) pat\n",
    "  | Pair : ('a, 'k, 'j) pat * ('b, 'j, 'r) pat -> ('a * 'b, 'k, 'r) pat\n",
    "  | Cons : ('a, 'k, 'j) pat * ('a list, 'j, 'r) pat -> ('a list, 'k, 'r) pat"
   ]
  },
  {
   "cell_type": "code",
   "execution_count": null,
   "metadata": {
    "vscode": {
     "languageId": "ocaml"
    }
   },
   "outputs": [
    {
     "data": {
      "text/plain": [
       "val match_ : 'a -> ('a, 'f, 'r) pat -> 'f -> 'r = <fun>\n"
      ]
     },
     "execution_count": 45,
     "metadata": {},
     "output_type": "execute_result"
    }
   ],
   "source": [
    "let rec match_ : type a f r. a -> (a, f, r) pat -> f -> r = (* Explicit type notation *)\n",
    "  fun scrutinee pattern cont -> \n",
    "    match pattern, scrutinee with\n",
    "    | Any, _ -> cont\n",
    "    | Int _, _ -> cont\n",
    "    | Var, _ -> cont scrutinee\n",
    "    | EmptyList, _ -> cont\n",
    "    | Pair (p1, p2), (a1, a2) -> \n",
    "      let m1 = match_ a1 p1 cont in\n",
    "      let m2 = match_ a2 p2 m1 in\n",
    "      m2\n",
    "    | Cons (p1, p2), a1::a2 -> \n",
    "        let m1 = match_ a1 p1 cont in\n",
    "        let m2 = match_ a2 p2 m1 in\n",
    "        m2\n",
    "    | _, _ -> failwith \"match failed\""
   ]
  },
  {
   "cell_type": "code",
   "execution_count": null,
   "metadata": {
    "vscode": {
     "languageId": "ocaml"
    }
   },
   "outputs": [],
   "source": []
  }
 ],
 "metadata": {
  "kernelspec": {
   "display_name": "OCaml 4.12.0",
   "language": "OCaml",
   "name": "ocaml-jupyter-4.12.0"
  },
  "language_info": {
   "codemirror_mode": "text/x-ocaml",
   "file_extension": ".ml",
   "mimetype": "text/x-ocaml",
   "name": "OCaml",
   "nbconverter_exporter": null,
   "pygments_lexer": "OCaml",
   "version": "4.12.0"
  }
 },
 "nbformat": 4,
 "nbformat_minor": 2
}
