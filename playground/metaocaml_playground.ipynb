{
 "cells": [
  {
   "cell_type": "markdown",
   "metadata": {},
   "source": [
    "# First Class Patterns"
   ]
  },
  {
   "cell_type": "code",
   "execution_count": 1,
   "metadata": {
    "vscode": {
     "languageId": "ocaml"
    }
   },
   "outputs": [
    {
     "name": "stderr",
     "output_type": "stream",
     "text": [
      "/Users/theowang/.opam/4.12.0/lib/base/base_internalhash_types: added to search path\n",
      "/Users/theowang/.opam/4.12.0/lib/base/base_internalhash_types/base_internalhash_types.cma: loaded\n",
      "/Users/theowang/.opam/4.12.0/lib/base/caml: added to search path\n",
      "/Users/theowang/.opam/4.12.0/lib/base/caml/caml.cma: loaded\n",
      "/Users/theowang/.opam/4.12.0/lib/base/shadow_stdlib: added to search path\n",
      "/Users/theowang/.opam/4.12.0/lib/base/shadow_stdlib/shadow_stdlib.cma: loaded\n",
      "/Users/theowang/.opam/4.12.0/lib/sexplib0: added to search path\n",
      "/Users/theowang/.opam/4.12.0/lib/sexplib0/sexplib0.cma: loaded\n",
      "/Users/theowang/.opam/4.12.0/lib/base: added to search path\n",
      "/Users/theowang/.opam/4.12.0/lib/base/base.cma: loaded\n",
      "/Users/theowang/.opam/4.12.0/lib/base/md5: added to search path\n",
      "/Users/theowang/.opam/4.12.0/lib/base/md5/md5_lib.cma: loaded\n",
      "/Users/theowang/.opam/4.12.0/lib/fieldslib: added to search path\n",
      "/Users/theowang/.opam/4.12.0/lib/fieldslib/fieldslib.cma: loaded\n",
      "/Users/theowang/.opam/4.12.0/lib/ppx_compare/runtime-lib: added to search path\n",
      "/Users/theowang/.opam/4.12.0/lib/ppx_compare/runtime-lib/ppx_compare_lib.cma: loaded\n",
      "/Users/theowang/.opam/4.12.0/lib/ppx_enumerate/runtime-lib: added to search path\n",
      "/Users/theowang/.opam/4.12.0/lib/ppx_enumerate/runtime-lib/ppx_enumerate_lib.cma: loaded\n",
      "/Users/theowang/.opam/4.12.0/lib/ppx_sexp_conv/runtime-lib: added to search path\n",
      "/Users/theowang/.opam/4.12.0/lib/ppx_sexp_conv/runtime-lib/ppx_sexp_conv_lib.cma: loaded\n",
      "/Users/theowang/.opam/4.12.0/lib/ppx_hash/runtime-lib: added to search path\n",
      "/Users/theowang/.opam/4.12.0/lib/ppx_hash/runtime-lib/ppx_hash_lib.cma: loaded\n",
      "/Users/theowang/.opam/4.12.0/lib/ppx_here/runtime-lib: added to search path\n",
      "/Users/theowang/.opam/4.12.0/lib/ppx_here/runtime-lib/ppx_here_lib.cma: loaded\n",
      "/Users/theowang/.opam/4.12.0/lib/ppx_assert/runtime-lib: added to search path\n",
      "/Users/theowang/.opam/4.12.0/lib/ppx_assert/runtime-lib/ppx_assert_lib.cma: loaded\n",
      "/Users/theowang/.opam/4.12.0/lib/ppx_bench/runtime-lib: added to search path\n",
      "/Users/theowang/.opam/4.12.0/lib/ppx_bench/runtime-lib/ppx_bench_lib.cma: loaded\n",
      "/Users/theowang/.opam/4.12.0/lib/ppx_inline_test/config: added to search path\n",
      "/Users/theowang/.opam/4.12.0/lib/ppx_inline_test/config/inline_test_config.cma: loaded\n",
      "/Users/theowang/.opam/4.12.0/lib/jane-street-headers: added to search path\n",
      "/Users/theowang/.opam/4.12.0/lib/jane-street-headers/jane_street_headers.cma: loaded\n",
      "/Users/theowang/.opam/4.12.0/lib/time_now: added to search path\n",
      "/Users/theowang/.opam/4.12.0/lib/time_now/time_now.cma: loaded\n",
      "/Users/theowang/.opam/4.12.0/lib/ppx_inline_test/runtime-lib: added to search path\n",
      "/Users/theowang/.opam/4.12.0/lib/ppx_inline_test/runtime-lib/ppx_inline_test_lib.cma: loaded\n",
      "/Users/theowang/.opam/4.12.0/lib/splittable_random: added to search path\n",
      "/Users/theowang/.opam/4.12.0/lib/splittable_random/splittable_random.cma: loaded\n",
      "/Users/theowang/.opam/4.12.0/lib/base_quickcheck: added to search path\n",
      "/Users/theowang/.opam/4.12.0/lib/base_quickcheck/base_quickcheck.cma: loaded\n",
      "/Users/theowang/.opam/4.12.0/lib/base_quickcheck/ppx_quickcheck/runtime: added to search path\n",
      "/Users/theowang/.opam/4.12.0/lib/base_quickcheck/ppx_quickcheck/runtime/ppx_quickcheck_runtime.cma: loaded\n",
      "/Users/theowang/.opam/4.12.0/lib/ocaml/unix.cma: loaded\n",
      "/Users/theowang/.opam/4.12.0/lib/ocaml/bigarray.cma: loaded\n",
      "/Users/theowang/.opam/4.12.0/lib/variantslib: added to search path\n",
      "/Users/theowang/.opam/4.12.0/lib/variantslib/variantslib.cma: loaded\n",
      "/Users/theowang/.opam/4.12.0/lib/bin_prot/shape: added to search path\n",
      "/Users/theowang/.opam/4.12.0/lib/bin_prot/shape/bin_shape_lib.cma: loaded\n",
      "/Users/theowang/.opam/4.12.0/lib/bin_prot: added to search path\n",
      "/Users/theowang/.opam/4.12.0/lib/bin_prot/bin_prot.cma: loaded\n",
      "/Users/theowang/.opam/4.12.0/lib/ppx_expect/common: added to search path\n",
      "/Users/theowang/.opam/4.12.0/lib/ppx_expect/common/expect_test_common.cma: loaded\n",
      "/Users/theowang/.opam/4.12.0/lib/ppx_expect/config_types: added to search path\n",
      "/Users/theowang/.opam/4.12.0/lib/ppx_expect/config_types/expect_test_config_types.cma: loaded\n",
      "/Users/theowang/.opam/4.12.0/lib/ppx_expect/collector: added to search path\n",
      "/Users/theowang/.opam/4.12.0/lib/ppx_expect/collector/expect_test_collector.cma: loaded\n",
      "/Users/theowang/.opam/4.12.0/lib/ppx_expect/config: added to search path\n",
      "/Users/theowang/.opam/4.12.0/lib/ppx_expect/config/expect_test_config.cma: loaded\n",
      "/Users/theowang/.opam/4.12.0/lib/parsexp: added to search path\n",
      "/Users/theowang/.opam/4.12.0/lib/parsexp/parsexp.cma: loaded\n",
      "/Users/theowang/.opam/4.12.0/lib/sexplib: added to search path\n",
      "/Users/theowang/.opam/4.12.0/lib/sexplib/sexplib.cma: loaded\n",
      "/Users/theowang/.opam/4.12.0/lib/ppx_log/types: added to search path\n",
      "/Users/theowang/.opam/4.12.0/lib/ppx_log/types/ppx_log_types.cma: loaded\n",
      "/Users/theowang/.opam/4.12.0/lib/stdio: added to search path\n",
      "/Users/theowang/.opam/4.12.0/lib/stdio/stdio.cma: loaded\n",
      "/Users/theowang/.opam/4.12.0/lib/ppx_module_timer/runtime: added to search path\n",
      "/Users/theowang/.opam/4.12.0/lib/ppx_module_timer/runtime/ppx_module_timer_runtime.cma: loaded\n",
      "/Users/theowang/.opam/4.12.0/lib/typerep: added to search path\n",
      "/Users/theowang/.opam/4.12.0/lib/typerep/typerep_lib.cma: loaded\n",
      "/Users/theowang/.opam/4.12.0/lib/int_repr: added to search path\n",
      "/Users/theowang/.opam/4.12.0/lib/int_repr/int_repr.cma: loaded\n",
      "/Users/theowang/.opam/4.12.0/lib/base_bigstring: added to search path\n",
      "/Users/theowang/.opam/4.12.0/lib/base_bigstring/base_bigstring.cma: loaded\n",
      "/Users/theowang/.opam/4.12.0/lib/core/base_for_tests: added to search path\n",
      "/Users/theowang/.opam/4.12.0/lib/core/base_for_tests/base_for_tests.cma: loaded\n",
      "/Users/theowang/.opam/4.12.0/lib/core/validate: added to search path\n",
      "/Users/theowang/.opam/4.12.0/lib/core/validate/validate.cma: loaded\n",
      "/Users/theowang/.opam/4.12.0/lib/core: added to search path\n",
      "/Users/theowang/.opam/4.12.0/lib/core/core.cma: loaded\n"
     ]
    }
   ],
   "source": [
    "#require \"core\"\n",
    "open Core"
   ]
  },
  {
   "cell_type": "code",
   "execution_count": 2,
   "metadata": {
    "vscode": {
     "languageId": "ocaml"
    }
   },
   "outputs": [
    {
     "data": {
      "text/plain": [
       "type (_, _, _) pat =\n",
       "    Any : ('a, 'r, 'r) pat\n",
       "  | Int : int -> (int, 'r, 'r) pat\n",
       "  | Var : ('a, 'a -> 'r, 'r) pat\n",
       "  | EmptyList : ('a list, 'r, 'r) pat\n",
       "  | Pair : ('a, 'k, 'j) pat * ('b, 'j, 'r) pat -> ('a * 'b, 'k, 'r) pat\n",
       "  | Cons : ('a, 'k, 'j) pat * ('a list, 'j, 'r) pat -> ('a list, 'k, 'r) pat\n"
      ]
     },
     "execution_count": 2,
     "metadata": {},
     "output_type": "execute_result"
    }
   ],
   "source": [
    "type (_, _, _) pat = \n",
    "    Any : ('a, 'r, 'r) pat\n",
    "  | Int : int -> (int, 'r, 'r) pat\n",
    "  | Var : ('a, 'a -> 'r, 'r) pat (* Would be 'a code here instead *)\n",
    "  | EmptyList : ('a list, 'r, 'r) pat\n",
    "  | Pair : ('a, 'k, 'j) pat * ('b, 'j, 'r) pat -> ('a * 'b, 'k, 'r) pat\n",
    "  | Cons : ('a, 'k, 'j) pat * ('a list, 'j, 'r) pat -> ('a list, 'k, 'r) pat"
   ]
  },
  {
   "cell_type": "code",
   "execution_count": 3,
   "metadata": {
    "vscode": {
     "languageId": "ocaml"
    }
   },
   "outputs": [
    {
     "data": {
      "text/plain": [
       "val match_ : 'a -> ('a, 'f, 'r) pat -> 'f -> 'r = <fun>\n"
      ]
     },
     "execution_count": 3,
     "metadata": {},
     "output_type": "execute_result"
    }
   ],
   "source": [
    "let rec match_ : type a f r. a -> (a, f, r) pat -> f -> r = (* Explicit type notation *)\n",
    "  fun scrutinee pattern cont -> \n",
    "    match pattern, scrutinee with\n",
    "    | Any, _ -> cont\n",
    "    | Int i, _ -> if i = scrutinee then cont else failwith \"match failed\"\n",
    "    | Var, _ -> cont scrutinee\n",
    "    | EmptyList, _ -> cont\n",
    "    | Pair (p1, p2), (a1, a2) -> \n",
    "      let m1 = match_ a1 p1 cont in\n",
    "      let m2 = match_ a2 p2 m1 in\n",
    "      m2\n",
    "    | Cons (p1, p2), a1::a2 -> \n",
    "        let m1 = match_ a1 p1 cont in\n",
    "        let m2 = match_ a2 p2 m1 in\n",
    "        m2\n",
    "    | _, _ -> failwith \"match failed\""
   ]
  },
  {
   "cell_type": "markdown",
   "metadata": {},
   "source": [
    "# Tagless final embedding"
   ]
  },
  {
   "cell_type": "code",
   "execution_count": 4,
   "metadata": {
    "vscode": {
     "languageId": "ocaml"
    }
   },
   "outputs": [
    {
     "data": {
      "text/plain": [
       "module type Symantics =\n",
       "  sig\n",
       "    type ('c, 'dv) repr\n",
       "    val int : int -> ('c, int) repr\n",
       "    val bool : bool -> ('c, bool) repr\n",
       "    val lam : (('c, 'da) repr -> ('c, 'db) repr) -> ('c, 'da -> 'db) repr\n",
       "    val app : ('c, 'da -> 'db) repr -> ('c, 'da) repr -> ('c, 'db) repr\n",
       "    val fix :\n",
       "      (('c, 'da -> 'db) repr -> ('c, 'da -> 'db) repr) ->\n",
       "      ('c, 'da -> 'db) repr\n",
       "    val add : ('c, int) repr -> ('c, int) repr -> ('c, int) repr\n",
       "    val mul : ('c, int) repr -> ('c, int) repr -> ('c, int) repr\n",
       "    val leq : ('c, int) repr -> ('c, int) repr -> ('c, bool) repr\n",
       "    val if_ :\n",
       "      ('c, bool) repr ->\n",
       "      (unit -> ('c, 'da) repr) -> (unit -> ('c, 'da) repr) -> ('c, 'da) repr\n",
       "  end\n"
      ]
     },
     "execution_count": 4,
     "metadata": {},
     "output_type": "execute_result"
    }
   ],
   "source": [
    "module type Symantics = sig\n",
    "  type ('c, 'dv) repr\n",
    "  val int : int  -> ('c, int) repr\n",
    "  val bool: bool -> ('c, bool) repr\n",
    "  val lam : (('c, 'da) repr -> ('c, 'db) repr) -> ('c, 'da -> 'db) repr\n",
    "  val app : ('c, 'da -> 'db) repr -> ('c, 'da) repr -> ('c, 'db) repr\n",
    "  val fix : ('x -> 'x) -> (('c, 'da -> 'db) repr as 'x)\n",
    "  val add : ('c, int) repr -> ('c, int) repr -> ('c, int) repr\n",
    "  val mul : ('c, int) repr -> ('c, int) repr -> ('c, int) repr\n",
    "  val leq : ('c, int) repr -> ('c, int) repr -> ('c, bool) repr\n",
    "  val if_ : ('c, bool) repr -> (unit -> 'x) -> (unit -> 'x) -> (('c, 'da) repr as 'x)\n",
    "end"
   ]
  },
  {
   "cell_type": "code",
   "execution_count": 5,
   "metadata": {
    "vscode": {
     "languageId": "ocaml"
    }
   },
   "outputs": [
    {
     "data": {
      "text/plain": [
       "module Interpreter : Symantics\n"
      ]
     },
     "execution_count": 5,
     "metadata": {},
     "output_type": "execute_result"
    }
   ],
   "source": [
    "(* https://okmij.org/ftp/tagless-final/JFP.pdf *)\n",
    "module Interpreter : Symantics = struct\n",
    "  type ('c, 'dv) repr = 'dv\n",
    "  let int x = x\n",
    "  let bool b = b\n",
    "  let lam f = f\n",
    "  let app e1 e2 = e1 e2 \n",
    "  let fix f = let rec self n = f self n in self\n",
    "  let add e1 e2 = e1 + e2\n",
    "  let mul e1 e2 = e1 * e2\n",
    "  let leq e1 e2 = e1 <= e2\n",
    "  let if_ eb et ee = if eb then et () else ee ()\n",
    "end"
   ]
  },
  {
   "cell_type": "code",
   "execution_count": 6,
   "metadata": {
    "vscode": {
     "languageId": "ocaml"
    }
   },
   "outputs": [
    {
     "data": {
      "text/plain": [
       "- : ('_weak1, bool) Interpreter.repr = <abstr>\n"
      ]
     },
     "execution_count": 6,
     "metadata": {},
     "output_type": "execute_result"
    }
   ],
   "source": [
    "let module I = Interpreter in I.app (I.lam (fun x -> x)) (I.bool true)"
   ]
  },
  {
   "cell_type": "code",
   "execution_count": 7,
   "metadata": {
    "vscode": {
     "languageId": "ocaml"
    }
   },
   "outputs": [
    {
     "data": {
      "text/plain": [
       "module type Pat =\n",
       "  sig\n",
       "    type ('c, 'a, 'f, 'r) pat\n",
       "    val int_ : int -> ('c, int, 'r, 'r) pat\n",
       "    val any_ : ('c, 'a, 'r, 'r) pat\n",
       "    val var : ('c, 'a, 'a -> 'r, 'r) pat\n",
       "    val emptylist : ('c, 'a list, 'r, 'r) pat\n",
       "    val pair :\n",
       "      ('c, 'a, 'k, 'j) pat ->\n",
       "      ('c, 'b, 'j, 'r) pat -> ('c, 'a * 'b, 'k, 'r) pat\n",
       "    val cons :\n",
       "      ('c, 'a, 'k, 'j) pat ->\n",
       "      ('c, 'a list, 'j, 'r) pat -> ('c, 'a list, 'k, 'r) pat\n",
       "    val or_ :\n",
       "      ('c, 'a, 'k, 'r) pat -> ('c, 'a, 'k, 'r) pat -> ('c, 'a, 'k, 'r) pat\n",
       "  end\n"
      ]
     },
     "execution_count": 7,
     "metadata": {},
     "output_type": "execute_result"
    }
   ],
   "source": [
    "module type Pat = sig\n",
    "  type ('c, 'a, 'f, 'r) pat\n",
    "  val int_ : int -> ('c, int, 'r, 'r) pat\n",
    "  val any_ : ('c, 'a, 'r, 'r) pat\n",
    "  val var : ('c, 'a, 'a -> 'r, 'r) pat\n",
    "  val emptylist : ('c, 'a list, 'r, 'r) pat\n",
    "  val pair : ('c, 'a, 'k, 'j) pat -> ('c, 'b, 'j, 'r) pat -> ('c, 'a * 'b, 'k, 'r) pat\n",
    "  val cons : ('c, 'a, 'k, 'j) pat -> ('c, 'a list, 'j, 'r) pat -> ('c, 'a list, 'k, 'r) pat\n",
    "  val or_ : ('c, 'a, 'k, 'r) pat -> ('c, 'a, 'k, 'r) pat -> ('c, 'a, 'k, 'r) pat\n",
    "end"
   ]
  },
  {
   "cell_type": "code",
   "execution_count": 8,
   "metadata": {
    "vscode": {
     "languageId": "ocaml"
    }
   },
   "outputs": [
    {
     "data": {
      "text/plain": [
       "module PattnMatch :\n",
       "  sig\n",
       "    type ('c, 'a, 'f, 'r) pat = 'a -> 'f -> 'r option\n",
       "    val int_ : Core.Int.t -> Core.Int.t -> 'a -> 'a option\n",
       "    val any_ : 'a -> 'b -> 'b option\n",
       "    val var : 'a -> ('a -> 'b) -> 'b option\n",
       "    val emptylist : 'a -> 'b -> 'b option\n",
       "    val pair :\n",
       "      ('a -> 'b -> 'c Base.Option.t) ->\n",
       "      ('d -> 'c -> 'e Base.Option.t) -> 'a * 'd -> 'b -> 'e Base.Option.t\n",
       "    val cons :\n",
       "      ('a -> 'b -> 'c Base.Option.t) ->\n",
       "      ('a list -> 'c -> 'd Base.Option.t) ->\n",
       "      'a list -> 'b -> 'd Base.Option.t\n",
       "    val or_ :\n",
       "      ('a -> 'b -> 'c option) ->\n",
       "      ('a -> 'b -> 'c option) -> 'a -> 'b -> 'c option\n",
       "    val rename :\n",
       "      ('a -> ('b -> 'c -> 'd) -> 'e) -> 'a -> ('c -> 'b -> 'd) -> 'e\n",
       "  end\n"
      ]
     },
     "execution_count": 8,
     "metadata": {},
     "output_type": "execute_result"
    }
   ],
   "source": [
    "module PattnMatch = struct\n",
    "  open Core.Option.Monad_infix\n",
    "  type ('c, 'a, 'f, 'r) pat = 'a -> 'f -> 'r option\n",
    "  let int_ i scrutinee cont = if i = scrutinee then Some (cont) else None\n",
    "  let any_ scrutinee cont = Some cont\n",
    "  let var scrutinee cont = Some (cont scrutinee)\n",
    "  let emptylist scrutinee cont = Some cont\n",
    "  let pair constr_left constr_right (scrutinee_left, scrutinee_right) cont = \n",
    "    constr_left scrutinee_left cont >>= fun m1 -> \n",
    "    constr_right scrutinee_right m1 >>= fun m2 -> \n",
    "    Some m2\n",
    "  let cons constr_left constr_right (scrutinee) cont = \n",
    "    match scrutinee with \n",
    "    | scrutinee_left :: scrutinee_right ->\n",
    "      constr_left scrutinee_left cont >>= fun m1 -> \n",
    "      constr_right scrutinee_right m1 >>= fun m2 ->\n",
    "      Some m2\n",
    "    | _ -> None\n",
    "  let or_ constr_left constr_right scrutinee cont = \n",
    "      match constr_left scrutinee cont with\n",
    "      | Some res -> Some res\n",
    "      | None -> constr_right scrutinee cont\n",
    "  let rename constr scrutinee cont = constr scrutinee (fun x y -> cont y x)\n",
    "  (* TODO: implement this sort of renaming *)\n",
    "end"
   ]
  },
  {
   "cell_type": "code",
   "execution_count": 9,
   "metadata": {
    "vscode": {
     "languageId": "ocaml"
    }
   },
   "outputs": [
    {
     "data": {
      "text/plain": [
       "- : int Base.Option.t = Base.Option.Some 3\n"
      ]
     },
     "execution_count": 9,
     "metadata": {},
     "output_type": "execute_result"
    }
   ],
   "source": [
    "PattnMatch.pair PattnMatch.var PattnMatch.var (1, 2) (fun x -> fun y -> x + y)"
   ]
  },
  {
   "cell_type": "code",
   "execution_count": 10,
   "metadata": {
    "vscode": {
     "languageId": "ocaml"
    }
   },
   "outputs": [
    {
     "data": {
      "text/plain": [
       "- : Core.Int.t Base.Option.t = Base.Option.Some 2\n"
      ]
     },
     "execution_count": 10,
     "metadata": {},
     "output_type": "execute_result"
    }
   ],
   "source": [
    "PattnMatch.or_ (PattnMatch.pair PattnMatch.var (PattnMatch.int_ (3))) (PattnMatch.pair (PattnMatch.int_ (3)) PattnMatch.var) (3, 2) (fun x -> x)"
   ]
  },
  {
   "cell_type": "code",
   "execution_count": 11,
   "metadata": {
    "vscode": {
     "languageId": "ocaml"
    }
   },
   "outputs": [
    {
     "data": {
      "text/plain": [
       "- : '_weak2 * '_weak3 ->\n",
       "    ('_weak2 -> '_weak3 -> '_weak4) -> '_weak4 Base.Option.t\n",
       "= <fun>\n"
      ]
     },
     "execution_count": 11,
     "metadata": {},
     "output_type": "execute_result"
    }
   ],
   "source": [
    "PattnMatch.pair PattnMatch.var PattnMatch.var"
   ]
  },
  {
   "cell_type": "code",
   "execution_count": 12,
   "metadata": {
    "vscode": {
     "languageId": "ocaml"
    }
   },
   "outputs": [
    {
     "data": {
      "text/plain": [
       "- : Core.Int.t * '_weak5 -> ('_weak5 -> '_weak6) -> '_weak6 Base.Option.t =\n",
       "<fun>\n"
      ]
     },
     "execution_count": 12,
     "metadata": {},
     "output_type": "execute_result"
    }
   ],
   "source": [
    "PattnMatch.pair (PattnMatch.int_ (3)) PattnMatch.var"
   ]
  },
  {
   "cell_type": "code",
   "execution_count": 13,
   "metadata": {
    "vscode": {
     "languageId": "ocaml"
    }
   },
   "outputs": [
    {
     "data": {
      "text/plain": [
       "- : int Base.Option.t = Base.Option.Some 2\n"
      ]
     },
     "execution_count": 13,
     "metadata": {},
     "output_type": "execute_result"
    }
   ],
   "source": [
    "PattnMatch.pair (PattnMatch.int_ (3)) PattnMatch.var (3, 2) (fun x -> x)"
   ]
  },
  {
   "cell_type": "markdown",
   "metadata": {},
   "source": [
    "# Tagless Final, but with DB indices\n",
    "\n",
    "Need to try to see if I can generate things with De Bruijn indices instead, and what it could look like. Current issue is that we're encoding the context $\\Gamma$ as this curried function `'f`, and this is similar in spirit to doing HOAS. The issue, of course, is that I'd like a more explicit definition of variables so that I can manipulate them and rename them etc."
   ]
  },
  {
   "cell_type": "code",
   "execution_count": null,
   "metadata": {
    "vscode": {
     "languageId": "ocaml"
    }
   },
   "outputs": [],
   "source": [
    "(x, y) \\intersect (y, x) -> \n",
    "  (x, y)\n",
    "\n",
    "  (x, y) -| x: int -> y: int -> 'r\n",
    "  (y, x) -| x: int -> y: int -> 'r\n",
    "\n",
    "  (2, 2)"
   ]
  },
  {
   "cell_type": "code",
   "execution_count": null,
   "metadata": {
    "vscode": {
     "languageId": "ocaml"
    }
   },
   "outputs": [],
   "source": []
  }
 ],
 "metadata": {
  "kernelspec": {
   "display_name": "OCaml 4.12.0",
   "language": "OCaml",
   "name": "ocaml-jupyter-4.12.0"
  },
  "language_info": {
   "codemirror_mode": "text/x-ocaml",
   "file_extension": ".ml",
   "mimetype": "text/x-ocaml",
   "name": "OCaml",
   "nbconverter_exporter": null,
   "pygments_lexer": "OCaml",
   "version": "4.12.0"
  }
 },
 "nbformat": 4,
 "nbformat_minor": 2
}
