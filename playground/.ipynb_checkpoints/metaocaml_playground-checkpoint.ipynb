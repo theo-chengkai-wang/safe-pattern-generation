{
 "cells": [
  {
   "cell_type": "markdown",
   "metadata": {},
   "source": [
    "# First Class Patterns"
   ]
  },
  {
   "cell_type": "code",
   "execution_count": 1,
   "metadata": {
    "vscode": {
     "languageId": "ocaml"
    }
   },
   "outputs": [
    {
     "data": {
      "text/plain": [
       "type (_, _, _) pat =\n",
       "    Any : ('a, 'r, 'r) pat\n",
       "  | Int : int -> (int, 'r, 'r) pat\n",
       "  | Var : ('a, 'a -> 'r, 'r) pat\n",
       "  | EmptyList : ('a list, 'r, 'r) pat\n",
       "  | Pair : ('a, 'k, 'j) pat * ('b, 'j, 'r) pat -> ('a * 'b, 'k, 'r) pat\n",
       "  | Cons : ('a, 'k, 'j) pat * ('a list, 'j, 'r) pat -> ('a list, 'k, 'r) pat\n"
      ]
     },
     "execution_count": 1,
     "metadata": {},
     "output_type": "execute_result"
    }
   ],
   "source": [
    "type (_, _, _) pat = \n",
    "    Any : ('a, 'r, 'r) pat\n",
    "  | Int : int -> (int, 'r, 'r) pat\n",
    "  | Var : ('a, 'a -> 'r, 'r) pat (* Would be 'a code here instead *)\n",
    "  | EmptyList : ('a list, 'r, 'r) pat\n",
    "  | Pair : ('a, 'k, 'j) pat * ('b, 'j, 'r) pat -> ('a * 'b, 'k, 'r) pat\n",
    "  | Cons : ('a, 'k, 'j) pat * ('a list, 'j, 'r) pat -> ('a list, 'k, 'r) pat"
   ]
  },
  {
   "cell_type": "code",
   "execution_count": 5,
   "metadata": {
    "vscode": {
     "languageId": "ocaml"
    }
   },
   "outputs": [
    {
     "data": {
      "text/plain": [
       "val match_ : 'a -> ('a, 'f, 'r) pat -> 'f -> 'r = <fun>\n"
      ]
     },
     "execution_count": 5,
     "metadata": {},
     "output_type": "execute_result"
    }
   ],
   "source": [
    "let rec match_ : type a f r. a -> (a, f, r) pat -> f -> r = (* Explicit type notation *)\n",
    "  fun scrutinee pattern cont -> \n",
    "    match pattern, scrutinee with\n",
    "    | Any, _ -> cont\n",
    "    | Int _, _ -> cont\n",
    "    | Var, _ -> cont scrutinee\n",
    "    | EmptyList, _ -> cont\n",
    "    | Pair (p1, p2), (a1, a2) -> \n",
    "      let m1 = match_ a1 p1 cont in\n",
    "      let m2 = match_ a2 p2 m1 in\n",
    "      m2\n",
    "    | Cons (p1, p2), a1::a2 -> \n",
    "        let m1 = match_ a1 p1 cont in\n",
    "        let m2 = match_ a2 p2 m1 in\n",
    "        m2\n",
    "    | _, _ -> failwith \"match failed\""
   ]
  },
  {
   "cell_type": "markdown",
   "metadata": {},
   "source": [
    "# Tagless final embedding"
   ]
  },
  {
   "cell_type": "code",
   "execution_count": 8,
   "metadata": {
    "vscode": {
     "languageId": "ocaml"
    }
   },
   "outputs": [
    {
     "data": {
      "text/plain": [
       "module type Symantics =\n",
       "  sig\n",
       "    type ('c, 'dv) repr\n",
       "    val int : int -> ('c, int) repr\n",
       "    val bool : bool -> ('c, bool) repr\n",
       "    val lam : (('c, 'da) repr -> ('c, 'db) repr) -> ('c, 'da -> 'db) repr\n",
       "    val app : ('c, 'da -> 'db) repr -> ('c, 'da) repr -> ('c, 'db) repr\n",
       "    val fix :\n",
       "      (('c, 'da -> 'db) repr -> ('c, 'da -> 'db) repr) ->\n",
       "      ('c, 'da -> 'db) repr\n",
       "    val add : ('c, int) repr -> ('c, int) repr -> ('c, int) repr\n",
       "    val mul : ('c, int) repr -> ('c, int) repr -> ('c, int) repr\n",
       "    val leq : ('c, int) repr -> ('c, int) repr -> ('c, bool) repr\n",
       "    val if_ :\n",
       "      ('c, bool) repr ->\n",
       "      (unit -> ('c, 'da) repr) -> (unit -> ('c, 'da) repr) -> ('c, 'da) repr\n",
       "  end\n"
      ]
     },
     "execution_count": 8,
     "metadata": {},
     "output_type": "execute_result"
    }
   ],
   "source": [
    "module type Symantics = sig\n",
    "  type ('c, 'dv) repr\n",
    "  val int : int  -> ('c, int) repr\n",
    "  val bool: bool -> ('c, bool) repr\n",
    "  val lam : (('c, 'da) repr -> ('c, 'db) repr) -> ('c, 'da -> 'db) repr\n",
    "  val app : ('c, 'da -> 'db) repr -> ('c, 'da) repr -> ('c, 'db) repr\n",
    "  val fix : ('x -> 'x) -> (('c, 'da -> 'db) repr as 'x)\n",
    "  val add : ('c, int) repr -> ('c, int) repr -> ('c, int) repr\n",
    "  val mul : ('c, int) repr -> ('c, int) repr -> ('c, int) repr\n",
    "  val leq : ('c, int) repr -> ('c, int) repr -> ('c, bool) repr\n",
    "  val if_ : ('c, bool) repr -> (unit -> 'x) -> (unit -> 'x) -> (('c, 'da) repr as 'x)\n",
    "end"
   ]
  },
  {
   "cell_type": "code",
   "execution_count": 9,
   "metadata": {
    "vscode": {
     "languageId": "ocaml"
    }
   },
   "outputs": [
    {
     "data": {
      "text/plain": [
       "module Interpreter : Symantics\n"
      ]
     },
     "execution_count": 9,
     "metadata": {},
     "output_type": "execute_result"
    }
   ],
   "source": [
    "(* https://okmij.org/ftp/tagless-final/JFP.pdf *)\n",
    "module Interpreter : Symantics = struct\n",
    "  type ('c, 'dv) repr = 'dv\n",
    "  let int x = x\n",
    "  let bool b = b\n",
    "  let lam f = f\n",
    "  let app e1 e2 = e1 e2 \n",
    "  let fix f = let rec self n = f self n in self\n",
    "  let add e1 e2 = e1 + e2\n",
    "  let mul e1 e2 = e1 * e2\n",
    "  let leq e1 e2 = e1 <= e2\n",
    "  let if_ eb et ee = if eb then et () else ee ()\n",
    "end"
   ]
  },
  {
   "cell_type": "code",
   "execution_count": 14,
   "metadata": {
    "vscode": {
     "languageId": "ocaml"
    }
   },
   "outputs": [
    {
     "data": {
      "text/plain": [
       "- : ('_weak4, bool) Interpreter.repr = <abstr>\n"
      ]
     },
     "execution_count": 14,
     "metadata": {},
     "output_type": "execute_result"
    }
   ],
   "source": [
    "let module I = Interpreter in I.app (I.lam (fun x -> x)) (I.bool true)"
   ]
  },
  {
   "cell_type": "code",
   "execution_count": null,
   "metadata": {
    "vscode": {
     "languageId": "ocaml"
    }
   },
   "outputs": [],
   "source": []
  }
 ],
 "metadata": {
  "kernelspec": {
   "display_name": "OCaml 4.12.0",
   "language": "OCaml",
   "name": "ocaml-jupyter-4.12.0"
  },
  "language_info": {
   "codemirror_mode": "text/x-ocaml",
   "file_extension": ".ml",
   "mimetype": "text/x-ocaml",
   "name": "OCaml",
   "nbconverter_exporter": null,
   "pygments_lexer": "OCaml",
   "version": "4.12.0"
  }
 },
 "nbformat": 4,
 "nbformat_minor": 2
}
